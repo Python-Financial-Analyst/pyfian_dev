{
 "cells": [
  {
   "cell_type": "markdown",
   "id": "322e3f89",
   "metadata": {},
   "source": [
    "[![Open In Colab](https://colab.research.google.com/assets/colab-badge.svg)](https://colab.research.google.com/github/Python-Financial-Analyst/pyfian_dev/blob/main/notebooks/fixed_)\n"
   ]
  },
  {
   "cell_type": "code",
   "execution_count": 1,
   "id": "9cc25579",
   "metadata": {},
   "outputs": [
    {
     "data": {
      "text/plain": [
       "415.0591272329889"
      ]
     },
     "execution_count": 1,
     "metadata": {},
     "output_type": "execute_result"
    }
   ],
   "source": [
    "from pyfian.time_value.present_value import present_value_annuity\n",
    "present_value_annuity(100, rate=0.1, periods=5)\n",
    "\n",
    "from pyfian.time_value.present_value import present_value_growing_annuity\n",
    "present_value_growing_annuity(100, growth=0.05, rate=0.1, periods=5)\n",
    "\n"
   ]
  }
 ],
 "metadata": {
  "kernelspec": {
   "display_name": "pyfian-S_a1-JrS-py3.13",
   "language": "python",
   "name": "python3"
  },
  "language_info": {
   "codemirror_mode": {
    "name": "ipython",
    "version": 3
   },
   "file_extension": ".py",
   "mimetype": "text/x-python",
   "name": "python",
   "nbconvert_exporter": "python",
   "pygments_lexer": "ipython3",
   "version": "3.13.5"
  }
 },
 "nbformat": 4,
 "nbformat_minor": 5
}
