{
 "cells": [
  {
   "cell_type": "markdown",
   "id": "322e3f89",
   "metadata": {},
   "source": [
    "[![Open In Colab](https://colab.research.google.com/assets/colab-badge.svg)](https://colab.research.google.com/github/Python-Financial-Analyst/pyfian_dev/blob/main/notebooks/fixed_)\n"
   ]
  },
  {
   "cell_type": "code",
   "execution_count": 4,
   "id": "9cc25579",
   "metadata": {},
   "outputs": [
    {
     "name": "stdout",
     "output_type": "stream",
     "text": [
      "379.07867694084507\n",
      "415.0591272329889\n",
      "   Period  Payment  Interest  Principal  Remaining Balance\n",
      "0       1  20368.5    666.67   19701.83          180298.17\n",
      "1       2  20368.5    600.99   19767.50          160530.67\n",
      "2       3  20368.5    535.10   19833.39          140697.27\n",
      "3       4  20368.5    468.99   19899.51          120797.77\n",
      "4       5  20368.5    402.66   19965.84          100831.93\n",
      "5       6  20368.5    336.11   20032.39           80799.54\n",
      "6       7  20368.5    269.33   20099.17           60700.37\n",
      "7       8  20368.5    202.33   20166.16           40534.21\n",
      "8       9  20368.5    135.11   20233.38           20300.83\n",
      "9      10  20368.5     67.67   20300.83               0.00\n"
     ]
    }
   ],
   "source": [
    "from pyfian.time_value.present_value import present_value_annuity\n",
    "print(present_value_annuity(100, rate=0.1, periods=5))\n",
    "\n",
    "\n",
    "from pyfian.time_value.present_value import present_value_growing_annuity\n",
    "print(present_value_growing_annuity(100, growth=0.05, rate=0.1, periods=5))\n",
    "\n",
    "from pyfian.time_value.mortgage_cash_flows import mortgage_cash_flows\n",
    "print(mortgage_cash_flows(principal_balance=200000, annual_rate=0.04, term_months=10))"
   ]
  }
 ],
 "metadata": {
  "kernelspec": {
   "display_name": "pyfian-S_a1-JrS-py3.13",
   "language": "python",
   "name": "python3"
  },
  "language_info": {
   "codemirror_mode": {
    "name": "ipython",
    "version": 3
   },
   "file_extension": ".py",
   "mimetype": "text/x-python",
   "name": "python",
   "nbconvert_exporter": "python",
   "pygments_lexer": "ipython3",
   "version": "3.13.5"
  }
 },
 "nbformat": 4,
 "nbformat_minor": 5
}
