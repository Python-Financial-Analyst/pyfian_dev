{
 "cells": [
  {
   "cell_type": "code",
   "execution_count": 2,
   "id": "9cc25579",
   "metadata": {},
   "outputs": [
    {
     "data": {
      "text/plain": [
       "0.35000880649398824"
      ]
     },
     "execution_count": 2,
     "metadata": {},
     "output_type": "execute_result"
    }
   ],
   "source": [
    "from pyfian.time_value.irr import irr\n",
    "\n",
    "irr([-1000, 300, 420, 680, 900], guess=0.1)"
   ]
  }
 ],
 "metadata": {
  "kernelspec": {
   "display_name": "pyfian-S_a1-JrS-py3.13",
   "language": "python",
   "name": "python3"
  },
  "language_info": {
   "codemirror_mode": {
    "name": "ipython",
    "version": 3
   },
   "file_extension": ".py",
   "mimetype": "text/x-python",
   "name": "python",
   "nbconvert_exporter": "python",
   "pygments_lexer": "ipython3",
   "version": "3.13.5"
  }
 },
 "nbformat": 4,
 "nbformat_minor": 5
}
