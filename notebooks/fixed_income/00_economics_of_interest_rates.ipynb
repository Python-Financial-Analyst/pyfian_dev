{
 "cells": [
  {
   "cell_type": "markdown",
   "id": "322e3f89",
   "metadata": {},
   "source": [
    "[![Open In Colab](https://colab.research.google.com/assets/colab-badge.svg)](https://colab.research.google.com/github/Python-Financial-Analyst/pyfian_dev/blob/main/notebooks/fixed_income/00_economics_of_interest_rates.ipynb)"
   ]
  },
  {
   "cell_type": "code",
   "execution_count": null,
   "id": "fe4aed0f",
   "metadata": {},
   "outputs": [],
   "source": [
    "## Installation"
   ]
  },
  {
   "cell_type": "markdown",
   "id": "0b6d8138",
   "metadata": {},
   "source": [
    "The following cell will install the `pyfian` package, which provides tools for financial analysis in Python. This step ensures that all necessary modules are available for the calculations and examples in this notebook."
   ]
  },
  {
   "cell_type": "code",
   "execution_count": null,
   "id": "9bb9c3b6",
   "metadata": {},
   "outputs": [],
   "source": [
    "!git clone https://github.com/Python-Financial-Analyst/pyfian_dev.git\n",
    "!pip install -e pyfian_dev/."
   ]
  },
  {
   "cell_type": "code",
   "execution_count": 5,
   "id": "9cc25579",
   "metadata": {},
   "outputs": [
    {
     "name": "stdout",
     "output_type": "stream",
     "text": [
      "379.07867694084507\n",
      "415.0591272329889\n"
     ]
    },
    {
     "data": {
      "text/html": [
       "<div>\n",
       "<style scoped>\n",
       "    .dataframe tbody tr th:only-of-type {\n",
       "        vertical-align: middle;\n",
       "    }\n",
       "\n",
       "    .dataframe tbody tr th {\n",
       "        vertical-align: top;\n",
       "    }\n",
       "\n",
       "    .dataframe thead th {\n",
       "        text-align: right;\n",
       "    }\n",
       "</style>\n",
       "<table border=\"1\" class=\"dataframe\">\n",
       "  <thead>\n",
       "    <tr style=\"text-align: right;\">\n",
       "      <th></th>\n",
       "      <th>Period</th>\n",
       "      <th>Payment</th>\n",
       "      <th>Interest</th>\n",
       "      <th>Principal</th>\n",
       "      <th>Remaining Balance</th>\n",
       "    </tr>\n",
       "  </thead>\n",
       "  <tbody>\n",
       "    <tr>\n",
       "      <th>0</th>\n",
       "      <td>1</td>\n",
       "      <td>20368.5</td>\n",
       "      <td>666.67</td>\n",
       "      <td>19701.83</td>\n",
       "      <td>180298.17</td>\n",
       "    </tr>\n",
       "    <tr>\n",
       "      <th>1</th>\n",
       "      <td>2</td>\n",
       "      <td>20368.5</td>\n",
       "      <td>600.99</td>\n",
       "      <td>19767.50</td>\n",
       "      <td>160530.67</td>\n",
       "    </tr>\n",
       "    <tr>\n",
       "      <th>2</th>\n",
       "      <td>3</td>\n",
       "      <td>20368.5</td>\n",
       "      <td>535.10</td>\n",
       "      <td>19833.39</td>\n",
       "      <td>140697.27</td>\n",
       "    </tr>\n",
       "    <tr>\n",
       "      <th>3</th>\n",
       "      <td>4</td>\n",
       "      <td>20368.5</td>\n",
       "      <td>468.99</td>\n",
       "      <td>19899.51</td>\n",
       "      <td>120797.77</td>\n",
       "    </tr>\n",
       "    <tr>\n",
       "      <th>4</th>\n",
       "      <td>5</td>\n",
       "      <td>20368.5</td>\n",
       "      <td>402.66</td>\n",
       "      <td>19965.84</td>\n",
       "      <td>100831.93</td>\n",
       "    </tr>\n",
       "    <tr>\n",
       "      <th>5</th>\n",
       "      <td>6</td>\n",
       "      <td>20368.5</td>\n",
       "      <td>336.11</td>\n",
       "      <td>20032.39</td>\n",
       "      <td>80799.54</td>\n",
       "    </tr>\n",
       "    <tr>\n",
       "      <th>6</th>\n",
       "      <td>7</td>\n",
       "      <td>20368.5</td>\n",
       "      <td>269.33</td>\n",
       "      <td>20099.17</td>\n",
       "      <td>60700.37</td>\n",
       "    </tr>\n",
       "    <tr>\n",
       "      <th>7</th>\n",
       "      <td>8</td>\n",
       "      <td>20368.5</td>\n",
       "      <td>202.33</td>\n",
       "      <td>20166.16</td>\n",
       "      <td>40534.21</td>\n",
       "    </tr>\n",
       "    <tr>\n",
       "      <th>8</th>\n",
       "      <td>9</td>\n",
       "      <td>20368.5</td>\n",
       "      <td>135.11</td>\n",
       "      <td>20233.38</td>\n",
       "      <td>20300.83</td>\n",
       "    </tr>\n",
       "    <tr>\n",
       "      <th>9</th>\n",
       "      <td>10</td>\n",
       "      <td>20368.5</td>\n",
       "      <td>67.67</td>\n",
       "      <td>20300.83</td>\n",
       "      <td>0.00</td>\n",
       "    </tr>\n",
       "  </tbody>\n",
       "</table>\n",
       "</div>"
      ],
      "text/plain": [
       "   Period  Payment  Interest  Principal  Remaining Balance\n",
       "0       1  20368.5    666.67   19701.83          180298.17\n",
       "1       2  20368.5    600.99   19767.50          160530.67\n",
       "2       3  20368.5    535.10   19833.39          140697.27\n",
       "3       4  20368.5    468.99   19899.51          120797.77\n",
       "4       5  20368.5    402.66   19965.84          100831.93\n",
       "5       6  20368.5    336.11   20032.39           80799.54\n",
       "6       7  20368.5    269.33   20099.17           60700.37\n",
       "7       8  20368.5    202.33   20166.16           40534.21\n",
       "8       9  20368.5    135.11   20233.38           20300.83\n",
       "9      10  20368.5     67.67   20300.83               0.00"
      ]
     },
     "execution_count": 5,
     "metadata": {},
     "output_type": "execute_result"
    }
   ],
   "source": [
    "from pyfian.time_value.present_value import present_value_annuity\n",
    "print(present_value_annuity(100, rate=0.1, periods=5))\n",
    "\n",
    "\n",
    "from pyfian.time_value.present_value import present_value_growing_annuity\n",
    "print(present_value_growing_annuity(100, growth=0.05, rate=0.1, periods=5))\n",
    "\n",
    "from pyfian.time_value.mortgage_cash_flows import mortgage_cash_flows\n",
    "mortgage_cash_flows(principal_balance=200000, annual_rate=0.04, term_months=10)"
   ]
  }
 ],
 "metadata": {
  "kernelspec": {
   "display_name": "pyfian-S_a1-JrS-py3.13",
   "language": "python",
   "name": "python3"
  },
  "language_info": {
   "codemirror_mode": {
    "name": "ipython",
    "version": 3
   },
   "file_extension": ".py",
   "mimetype": "text/x-python",
   "name": "python",
   "nbconvert_exporter": "python",
   "pygments_lexer": "ipython3",
   "version": "3.13.5"
  }
 },
 "nbformat": 4,
 "nbformat_minor": 5
}
