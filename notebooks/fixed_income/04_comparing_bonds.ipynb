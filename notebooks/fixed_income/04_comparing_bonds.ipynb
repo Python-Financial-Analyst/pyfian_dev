{
 "cells": [
  {
   "cell_type": "markdown",
   "id": "fc0633d9",
   "metadata": {},
   "source": [
    "<a href=\"https://colab.research.google.com/github/Python-Financial-Analyst/pyfian_dev/blob/main/notebooks/fixed_income/04_bootstrapping.ipynb\" target=\"_blank\">\n",
    "  <img src=\"https://colab.research.google.com/assets/colab-badge.svg\" alt=\"Open in Colab\"/>\n",
    "</a>"
   ]
  },
  {
   "cell_type": "markdown",
   "id": "d772b575",
   "metadata": {},
   "source": [
    "# Comparing Bonds\n",
    "\n",
    "Let's say we have several different bonds and we need to compare \n",
    "\n",
    "\n",
    "\n",
    "### Logarithm of a Curve\n",
    "\n",
    "Taking the logarithm of a yield curve is a common technique to smooth out fluctuations and highlight relative differences between yields across maturities. This can make trends easier to analyze and help in fitting models to observed data.\n",
    "\n",
    "### AER (Annual Equivalent Rate)\n",
    "\n",
    "The Annual Equivalent Rate (AER) represents the annualized interest rate that accounts for compounding over the year. It allows investors to compare returns on different investment products on a consistent annual basis, regardless of how frequently interest is compounded (monthly, quarterly, etc.).\n",
    "\n",
    "The formula for AER is:\n",
    "\n",
    "$$\n",
    "\\text{AER} = \\left(1 + \\frac{i}{n}\\right)^n - 1\n",
    "$$\n",
    "\n",
    "where:  \n",
    "- \\(i\\) = nominal interest rate  \n",
    "- \\(n\\) = number of compounding periods per year  \n",
    "\n",
    "Using AER, investors can directly compare accounts or bonds that compound at different frequencies, ensuring a like-for-like comparison.\n",
    "\n",
    "### BEY (Bond Equivalent Yield)\n",
    "\n",
    "The Bond Equivalent Yield (BEY) converts the yield on a bond, often quoted on a discount or semi-annual basis, into an annualized yield that is comparable to standard coupon-bearing bonds. This is particularly useful for short-term securities like Treasury bills or zero-coupon bonds.\n",
    "\n",
    "For a discount bond (e.g., a T-bill), BEY is calculated as:\n",
    "\n",
    "$$\n",
    "\\text{BEY} = \\frac{F - P}{P} \\cdot \\frac{365}{t}\n",
    "$$\n",
    "\n",
    "where:  \n",
    "- \\(F\\) = face value of the bond  \n",
    "- \\(P\\) = purchase price  \n",
    "- \\(t\\) = days to maturity  \n",
    "\n",
    "For a semi-annual coupon bond, BEY can also be expressed as:\n",
    "\n",
    "$$\n",
    "\\text{BEY} = 2 \\left[ \\left(1 + \\frac{YTM_{\\text{semi-annual}}}{2}\\right)^2 - 1 \\right]\n",
    "$$\n",
    "\n",
    "Using BEY allows investors to compare yields of bonds with different maturities or coupon structures on a consistent annual basis, making it easier to assess relative value across instruments.\n"
   ]
  }
 ],
 "metadata": {
  "language_info": {
   "name": "python"
  }
 },
 "nbformat": 4,
 "nbformat_minor": 5
}
