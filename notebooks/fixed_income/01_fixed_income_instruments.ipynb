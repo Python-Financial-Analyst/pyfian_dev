{
 "cells": [
  {
   "cell_type": "markdown",
   "id": "d76ec9ca",
   "metadata": {},
   "source": [
    "[![Open In Colab](https://colab.research.google.com/assets/colab-badge.svg)](https://colab.research.google.com/github/Python-Financial-Analyst/pyfian_dev/blob/main/notebooks/fixed_income/01_fixed_income_instruments.ipynb)"
   ]
  },
  {
   "cell_type": "markdown",
   "id": "b557cf47",
   "metadata": {},
   "source": [
    "# Fixed Income Instruments"
   ]
  },
  {
   "cell_type": "markdown",
   "id": "49ae39e5",
   "metadata": {},
   "source": [
    "## Learning Objectives"
   ]
  },
  {
   "cell_type": "markdown",
   "id": "907cfe8c",
   "metadata": {},
   "source": [
    "- Understand the core structure of a bond\n",
    "- Learn different types of fixed income instruments\n",
    "- Become familiar with bond terminology and cash flow characteristics\n",
    "- Be prepared to advance into bond pricing and valuation"
   ]
  },
  {
   "cell_type": "markdown",
   "id": "34b5785c",
   "metadata": {},
   "source": [
    "## Installation\n",
    "\n",
    "The following cell will install the `pyfian` package, which provides tools for financial analysis in Python. This step ensures that all necessary modules are available for the calculations and examples in this notebook."
   ]
  },
  {
   "cell_type": "code",
   "execution_count": null,
   "id": "9be59343",
   "metadata": {},
   "outputs": [],
   "source": [
    "import importlib\n",
    "import sys\n",
    "import subprocess\n",
    "\n",
    "try:\n",
    "    importlib.import_module(\"pyfian\")\n",
    "except ImportError:\n",
    "    print(f\"Installing {\"pyfian\"}...\")\n",
    "    subprocess.check_call([sys.executable, \"-m\", \"pip\", \"install\", \"pyfian\"])\n",
    "\n",
    "try:\n",
    "    importlib.import_module(\"pandas_datareader\")\n",
    "except ImportError:\n",
    "    print(f\"Installing {\"pandas_datareader\"}...\")\n",
    "    subprocess.check_call([sys.executable, \"-m\", \"pip\", \"install\", \"git+https://github.com/pydata/pandas-datareader.git\"])"
   ]
  },
  {
   "cell_type": "markdown",
   "id": "b020d11f",
   "metadata": {},
   "source": [
    "## Bond Terminology and Structure"
   ]
  },
  {
   "cell_type": "markdown",
   "id": "a611150e",
   "metadata": {},
   "source": [
    "- **Face/Par Value**: The amount paid to the holder at maturity.\n",
    "- **Coupon Rate**: The interest rate paid by the bond (can be fixed or floating).\n",
    "- **Maturity Date**: The date when the bond's principal is repaid.\n",
    "- **Payment Frequency**: How often interest payments are made (annual, semiannual, etc.).\n",
    "- **Issue Date vs. Settlement Date**: Issue date is when the bond is created; settlement date is when it is purchased."
   ]
  },
  {
   "cell_type": "markdown",
   "id": "6e42c62a",
   "metadata": {},
   "source": [
    "Fixed income instruments, such as bonds, are debt securities that provide investors with regular interest payments and the return of principal at maturity. The core structure of a bond includes the face or par value (the amount repaid at maturity), the coupon rate (the interest paid to bondholders), the maturity date (when the principal is repaid), and the payment frequency (how often interest is paid). Bonds are issued on a specific issue date and are often purchased on a later settlement date.\n",
    "\n",
    "There are various types of bonds, each with unique features. Government bonds are issued by national governments and are generally considered low-risk. Corporate bonds are issued by companies and may offer higher yields to compensate for higher risk. Municipal bonds are issued by local governments and may provide tax advantages. \n",
    "\n",
    "Zero-coupon bonds do not pay periodic interest but are sold at a discount and pay the full face value at maturity. Coupon bonds pay regular interest, while callable bonds can be redeemed by the issuer before maturity. Putable bonds allow the holder to force the issuer to repurchase the bond before maturity. Convertible bonds can be exchanged for a predetermined number of shares of the issuing company.\n",
    "\n",
    "Bond cash flow patterns vary. Level coupon bonds pay fixed interest at regular intervals. Amortizing bonds pay both interest and part of the principal over time, reducing the outstanding balance. Perpetual bonds pay interest indefinitely and have no maturity date.\n",
    "\n",
    "Bond prices are quoted using different conventions. The clean price excludes accrued interest, while the dirty price includes it. Accrued interest is the interest earned since the last payment but not yet paid to the bondholder.\n",
    "\n",
    "Yield concepts are fundamental to understanding bond returns. The current yield is calculated as the annual coupon divided by the current price. Yield to maturity (YTM) represents the total return anticipated if the bond is held until maturity, taking into account all coupon payments and the difference between the purchase price and face value."
   ]
  },
  {
   "cell_type": "markdown",
   "id": "a3a2072e",
   "metadata": {},
   "source": [
    "## Types of Bonds"
   ]
  },
  {
   "cell_type": "markdown",
   "id": "ca5cac7d",
   "metadata": {},
   "source": [
    "- **Government Bonds**: Issued by national governments (e.g., Treasuries, sovereign bonds).\n",
    "- **Corporate Bonds**: Issued by companies.\n",
    "- **Municipal Bonds**: Issued by local governments.\n",
    "- **Zero-Coupon Bonds**: Pay no periodic interest, sold at a discount.\n",
    "- **Coupon Bonds**: Pay periodic interest.\n",
    "- **Callable Bonds**: Can be redeemed by issuer before maturity.\n",
    "- **Putable Bonds**: Holder can force issuer to repurchase before maturity.\n",
    "- **Convertible Bonds**: Can be converted into a predetermined number of shares."
   ]
  },
  {
   "cell_type": "markdown",
   "id": "f8c2c877",
   "metadata": {},
   "source": [
    "## Cash Flow Patterns"
   ]
  },
  {
   "cell_type": "markdown",
   "id": "50e2e8ab",
   "metadata": {},
   "source": [
    "- **Level Coupon Bonds**: Pay fixed interest at regular intervals.\n",
    "- **Amortizing Bonds**: Pay both interest and part of principal over time.\n",
    "- **Perpetual Bonds**: Pay interest forever, no maturity date."
   ]
  },
  {
   "cell_type": "markdown",
   "id": "657039f9",
   "metadata": {},
   "source": [
    "## Price Conventions"
   ]
  },
  {
   "cell_type": "markdown",
   "id": "29c113d6",
   "metadata": {},
   "source": [
    "- **Clean Price**: Price excluding accrued interest.\n",
    "- **Dirty Price**: Price including accrued interest.\n",
    "- **Accrued Interest Calculation**: Interest earned since last payment but not yet paid."
   ]
  },
  {
   "cell_type": "markdown",
   "id": "0108aafc",
   "metadata": {},
   "source": [
    "## Introduction to Yield Concepts (Preview)"
   ]
  },
  {
   "cell_type": "markdown",
   "id": "5b47e9a2",
   "metadata": {},
   "source": [
    "- **Current Yield**: Annual coupon divided by current price.\n",
    "- **Yield to Maturity (YTM)**: The total return anticipated if the bond is held to maturity (conceptual introduction; details in future classes)."
   ]
  },
  {
   "cell_type": "code",
   "execution_count": null,
   "id": "415c9642",
   "metadata": {},
   "outputs": [],
   "source": [
    "# Example: Calculate accrued interest for a bond\n",
    "face_value = 1000\n",
    "coupon_rate = 0.05  # 5% annual coupon\n",
    "payment_frequency = 2  # semiannual\n",
    "days_since_last_payment = 60\n",
    "days_in_period = 182  # typical for semiannual\n",
    "\n",
    "accrued_interest = (face_value * coupon_rate / payment_frequency) * (days_since_last_payment / days_in_period)\n",
    "print(f'Accrued Interest: ${accrued_interest:.2f}')"
   ]
  },
  {
   "cell_type": "markdown",
   "id": "4ad1dad8",
   "metadata": {},
   "source": []
  }
 ],
 "metadata": {
  "language_info": {
   "name": "python"
  }
 },
 "nbformat": 4,
 "nbformat_minor": 5
}
