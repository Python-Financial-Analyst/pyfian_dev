{
 "cells": [
  {
   "cell_type": "markdown",
   "id": "d76ec9ca",
   "metadata": {},
   "source": [
    "<a href=\"https://colab.research.google.com/github/Python-Financial-Analyst/pyfian_dev/blob/main/notebooks/fixed_income/01_fixed_income_instruments.ipynb\" target=\"_blank\">\n",
    "  <img src=\"https://colab.research.google.com/assets/colab-badge.svg\" alt=\"Open in Colab\"/>\n",
    "</a>"
   ]
  },
  {
   "cell_type": "markdown",
   "id": "b557cf47",
   "metadata": {},
   "source": [
    "# Fixed Income Instruments"
   ]
  },
  {
   "cell_type": "markdown",
   "id": "49ae39e5",
   "metadata": {},
   "source": [
    "## Learning Objectives"
   ]
  },
  {
   "cell_type": "markdown",
   "id": "907cfe8c",
   "metadata": {},
   "source": [
    "- Understand the core structure of a bond\n",
    "- Learn different types of fixed income instruments\n",
    "- Become familiar with bond terminology and cash flow characteristics\n",
    "- Be prepared to advance into bond pricing and valuation"
   ]
  },
  {
   "cell_type": "markdown",
   "id": "34b5785c",
   "metadata": {},
   "source": [
    "## Installation\n",
    "\n",
    "The following cell will install the `pyfian` package, which provides tools for financial analysis in Python. This step ensures that all necessary modules are available for the calculations and examples in this notebook."
   ]
  },
  {
   "cell_type": "code",
   "execution_count": null,
   "id": "9be59343",
   "metadata": {
    "tags": [
     "hide-input",
     "hide-output"
    ]
   },
   "outputs": [],
   "source": [
    "import importlib\n",
    "import sys\n",
    "import subprocess\n",
    "\n",
    "try:\n",
    "    importlib.import_module(\"pyfian\")\n",
    "except ImportError:\n",
    "    print(f\"Installing {'pyfian'}...\")\n",
    "    subprocess.check_call([sys.executable, \"-m\", \"pip\", \"install\", \"pyfian\"])\n",
    "\n",
    "try:\n",
    "    importlib.import_module(\"pandas_datareader\")\n",
    "except ImportError:\n",
    "    print(f\"Installing {'pandas_datareader'}...\")\n",
    "    subprocess.check_call(\n",
    "        [\n",
    "            sys.executable,\n",
    "            \"-m\",\n",
    "            \"pip\",\n",
    "            \"install\",\n",
    "            \"git+https://github.com/pydata/pandas-datareader.git\",\n",
    "        ]\n",
    "    )"
   ]
  },
  {
   "cell_type": "markdown",
   "id": "b020d11f",
   "metadata": {},
   "source": [
    "## Bond Terminology and Structure"
   ]
  },
  {
   "cell_type": "markdown",
   "id": "a611150e",
   "metadata": {},
   "source": [
    "- **Face/Par Value**: The amount paid to the holder at maturity.\n",
    "- **Coupon Rate**: The interest rate paid by the bond (can be fixed or floating).\n",
    "- **Maturity Date**: The date when the bond's principal is repaid.\n",
    "- **Payment Frequency**: How often interest payments are made (annual, semiannual, etc.).\n",
    "- **Issue Date vs. Settlement Date**: Issue date is when the bond is created; settlement date is when it is purchased."
   ]
  },
  {
   "cell_type": "markdown",
   "id": "6e42c62a",
   "metadata": {},
   "source": [
    "Fixed income instruments, such as bonds, are debt securities that provide investors with regular interest payments and the return of principal at maturity. The core structure of a bond includes the face or par value (the amount repaid at maturity), the coupon rate (the interest paid to bondholders), the maturity date (when the principal is repaid), and the payment frequency (how often interest is paid). Bonds are issued on a specific issue date and are often purchased on a later settlement date.\n",
    "\n",
    "There are various types of bonds, each with unique features. Government bonds are issued by national governments and are generally considered low-risk. Corporate bonds are issued by companies and may offer higher yields to compensate for higher risk. Municipal bonds are issued by local governments and may provide tax advantages. \n",
    "\n",
    "Zero-coupon bonds do not pay periodic interest but are sold at a discount and pay the full face value at maturity. Coupon bonds pay regular interest, while callable bonds can be redeemed by the issuer before maturity. Putable bonds allow the holder to force the issuer to repurchase the bond before maturity. Convertible bonds can be exchanged for a predetermined number of shares of the issuing company.\n",
    "\n",
    "Bond cash flow patterns vary. Level coupon bonds pay fixed interest at regular intervals. Amortizing bonds pay both interest and part of the principal over time, reducing the outstanding balance. Perpetual bonds pay interest indefinitely and have no maturity date.\n",
    "\n",
    "Bond prices are quoted using different conventions. The clean price excludes accrued interest, while the dirty price includes it. Accrued interest is the interest earned since the last payment but not yet paid to the bondholder.\n",
    "\n",
    "Yield concepts are fundamental to understanding bond returns. The current yield is calculated as the annual coupon divided by the current price. Yield to maturity (YTM) represents the total return anticipated if the bond is held until maturity, taking into account all coupon payments and the difference between the purchase price and face value."
   ]
  },
  {
   "cell_type": "markdown",
   "id": "a3a2072e",
   "metadata": {},
   "source": [
    "## Types of Bonds"
   ]
  },
  {
   "cell_type": "markdown",
   "id": "ca5cac7d",
   "metadata": {},
   "source": [
    "- **Government Bonds**: Issued by national governments (e.g., Treasuries, sovereign bonds).\n",
    "- **Corporate Bonds**: Issued by companies.\n",
    "- **Municipal Bonds**: Issued by local governments.\n",
    "- **Zero-Coupon Bonds**: Pay no periodic interest, sold at a discount.\n",
    "- **Coupon Bonds**: Pay periodic interest.\n",
    "- **Callable Bonds**: Can be redeemed by issuer before maturity.\n",
    "- **Putable Bonds**: Holder can force issuer to repurchase before maturity.\n",
    "- **Convertible Bonds**: Can be converted into a predetermined number of shares.\n",
    "\n",
    "### Government Bonds\n",
    "\n",
    "Goverment bonds are typically issued in US Dollars, Euros or local currency. While local currency debt can be inflated away by printing money, foreign currency debt is considered safer by investors. Sometimes investors also demand additional protections such as issuing bonds in a different legal jurisdiction, such as New York or London. There is no international law governing these bonds, or equitization, therefore when a country defaults, investors must negotiate directly with the government on a haircut. While the government has an incentive to reduce the repayment amount, countries must deal with reputational concerns for borrowing in the future if investors are unsatisfied with the renegotiation outcome. Here are examples of how much different countries pay to borrow money for 10 years: \n",
    "\n",
    "| Country         | 10-Year Yield (%) |\n",
    "|----------------|-------------------:|\n",
    "| Argentina       | 29.50              |\n",
    "| Australia       | 4.30               |\n",
    "| Brazil          | 14.01              |\n",
    "| Canada          | 3.49               |\n",
    "| China           | 1.68               |\n",
    "| France          | 3.27               |\n",
    "| Germany         | 2.59               |\n",
    "| India           | 6.30               |\n",
    "| Indonesia       | 6.95               |\n",
    "| Italy           | 3.44               |\n",
    "| Japan           | 1.50               |\n",
    "| Mexico          | 9.44               |\n",
    "| Russia          | 10.15              |\n",
    "| Saudi Arabia    | 5.50               |\n",
    "| South Africa    | 10.10              |\n",
    "| South Korea     | 3.36               |\n",
    "| Turkey          | 33.20              |\n",
    "| United Kingdom  | 4.58               |\n",
    "| United States   | 4.35               |\n",
    "| European Union  | 2.59               |\n",
    "\n",
    "\n",
    "### Corporate Bonds\n",
    "\n",
    "The interest rate premium on corporate bonds depends on the credit rating of a firm. Firms such as Apple have very high credit ratings, which allows them to borrow at very low rates. Firms can create a capital structure by issuing different tranches of debt: senior, mezzanine, junior, convertible bonds, etc. In the US creditors are protected by Chaper 7 and Chapter 11 bankruptcy, and are first in line to get repaid, should a firm become insolvent. In case that a firm doesn't have enough funds to repay, creditors absorb the equity in the firm via the process of equitization and can seize the firm's assets. \n",
    "\n",
    "| **Rating Category**             | **Typical Range**   | **Approx. Yield (Effective)** |\n",
    "|--------------------------------|----------------------|--------------------------------|\n",
    "| **Investment Grade**           |                      |                                |\n",
    "| AAA / Aaa                       | Top-tier             | ~4.8%                          |\n",
    "| AA / Aa                         | High-grade           | ~4.8%                          |\n",
    "| A / A                           | Upper-medium grade   | ~4.9%                          |\n",
    "| BBB / Baa (lowest IG)           | Lower medium grade   | ~5.3%                          |\n",
    "| **Speculative Grade (High Yield)** |                  |                                |\n",
    "| BB / Ba                         | BB‑level junk        | ~6.8% (index average he creditHI‑Y Index) |\n",
    "| B / B (lower speculative)       | Speculative          | ~7.2% (single‑B in HY Index)     |\n",
    "| CCC / Caa (distressed)          | Sub‑investment grade | >7.2%, often 10–12 %+          |\n",
    "\n",
    "\n",
    "### Municipal Bonds\n",
    "\n",
    "Municipal bonds are issued by states, provinces and cities. These bonds can be backed by the full faith of the state or government entity, or they can be tied a certain project. \n",
    "\n",
    "### Zero-Coupon Bonds\n",
    "\n",
    "Zero-Coupon Bonds do not issue periodic coupon payments.\n",
    "\n",
    "### Coupon Bonds\n",
    "\n",
    "Coupon Bonds issue interest periodically in the form of coupons. Coupons can be paid, every month, every quarter, semiannually or annually. \n",
    "\n",
    "### Callable Bonds\n",
    "\n",
    "Callable Bonds are bonds that can be called back early. Typically these bonds have a higher interest rate to allow for this optionality. If interest rates happen to decrease, callable bonds can be recalled by the issuer for a penalty. Although not a callable bond in the traditional sense, conceptually a mortgage works the same way as a callable bond. Households have the option to prepay their bonds while interest rates are low, or they can refinance their mortgage. However, in practice, households do not always take advantage of this option. \n",
    "\n",
    "### Putable Bonds\n",
    "\n",
    "Putable Bonds are bonds that can require an issuer to pay back the bond before maturity. In the same way as a callable bond, this optionality adds cost, and reduced the yield for the creditor. \n",
    "\n",
    "### Convertible Bonds\n",
    "\n",
    "Convertible Bonds are bonds that can be converted or redeemed for equity in a firm. If the equity of a firm appreciates in value, then the creditor will exercise the option to convert their holdings into stock. There bonds have a conversion ratio and are typically traded at a discount relative to standard bonds. \n",
    "\n",
    "\n"
   ]
  },
  {
   "cell_type": "markdown",
   "id": "f8c2c877",
   "metadata": {},
   "source": [
    "## Cash Flow Patterns"
   ]
  },
  {
   "cell_type": "markdown",
   "id": "50e2e8ab",
   "metadata": {},
   "source": [
    "- **Level Coupon Bonds**: Pay fixed interest at regular intervals.\n",
    "- **Amortizing Bonds**: Pay both interest and part of principal over time.\n",
    "- **Perpetual Bonds**: Pay interest forever, no maturity date."
   ]
  },
  {
   "cell_type": "markdown",
   "id": "657039f9",
   "metadata": {},
   "source": [
    "## Price Conventions"
   ]
  },
  {
   "cell_type": "markdown",
   "id": "29c113d6",
   "metadata": {},
   "source": [
    "- **Clean Price**: Price excluding accrued interest.\n",
    "- **Dirty Price**: Price including accrued interest.\n",
    "- **Accrued Interest Calculation**: Interest earned since last payment but not yet paid."
   ]
  },
  {
   "cell_type": "markdown",
   "id": "0108aafc",
   "metadata": {},
   "source": [
    "## Introduction to Yield Concepts (Preview)"
   ]
  },
  {
   "cell_type": "markdown",
   "id": "5b47e9a2",
   "metadata": {},
   "source": [
    "- **Current Yield**: Annual coupon divided by current price.\n",
    "- **Yield to Maturity (YTM)**: The total return anticipated if the bond is held to maturity (conceptual introduction; details in future classes)."
   ]
  },
  {
   "cell_type": "code",
   "execution_count": null,
   "id": "415c9642",
   "metadata": {},
   "outputs": [],
   "source": [
    "# Example: Calculate accrued interest for a bond\n",
    "face_value = 1000\n",
    "coupon_rate = 0.05  # 5% annual coupon\n",
    "payment_frequency = 2  # semiannual\n",
    "days_since_last_payment = 60\n",
    "days_in_period = 182  # typical for semiannual\n",
    "\n",
    "accrued_interest = (face_value * coupon_rate / payment_frequency) * (\n",
    "    days_since_last_payment / days_in_period\n",
    ")\n",
    "print(f\"Accrued Interest: ${accrued_interest:.2f}\")"
   ]
  },
  {
   "cell_type": "markdown",
   "id": "4ad1dad8",
   "metadata": {},
   "source": [
    "## IRR: Internal Rate of Return\n",
    "\n",
    "IRR is the discount rate that makes the net present value (NPV) of a series of cash flows equal to zero. When a bond is held to maturity, it is equal to the YTM."
   ]
  },
  {
   "cell_type": "code",
   "execution_count": null,
   "id": "6582e8c2",
   "metadata": {},
   "outputs": [],
   "source": [
    "from pyfian.time_value.irr import irr\n",
    "\n",
    "principal = 1000\n",
    "cash_flow_1 = 400\n",
    "cash_flow_2 = 400\n",
    "cash_flow_3 = 400\n",
    "irr([-principal, cash_flow_1, cash_flow_2, cash_flow_3])"
   ]
  },
  {
   "cell_type": "markdown",
   "id": "3d7b3d95",
   "metadata": {},
   "source": [
    "## XIRR: Non periodic IRR\n",
    "\n",
    "XIRR, or Extended Internal Rate of Return, is a financial metric used to calculate the annualized rate of return for a series of cash flows that occur at irregular intervals."
   ]
  },
  {
   "cell_type": "code",
   "execution_count": 3,
   "id": "5a234fbb",
   "metadata": {},
   "outputs": [
    {
     "name": "stdout",
     "output_type": "stream",
     "text": [
      "0.5831820341312749\n"
     ]
    }
   ],
   "source": [
    "from datetime import datetime\n",
    "from pyfian.time_value.irr import xirr\n",
    "\n",
    "cf = [-1000, 300, 400, 500, 600]\n",
    "dates = [\n",
    "        datetime(2020, 1, 1),\n",
    "        datetime(2020, 6, 1),\n",
    "        datetime(2021, 1, 1),\n",
    "        datetime(2021, 6, 1),\n",
    "        datetime(2022, 1, 1),\n",
    "        ]\n",
    "\n",
    "print(xirr(cf, dates))\n",
    "\n"
   ]
  },
  {
   "cell_type": "markdown",
   "id": "5c0d914a",
   "metadata": {},
   "source": [
    "## Continuous compounding\n",
    "\n",
    "We can compound interest using either discrete periods or continuous compounding. For instance, when calculating accrued interest between two periods, such as for a bond, we can use the continuously compounded interest formula for greater precision.\n",
    "\n",
    "The formula for present value of continuous compounding interest is: \n",
    "$$ PV = FV e^{-rt} $$\n",
    "\n",
    "The formula for future value of continuous compounding interest is: \n",
    "$$ FV = PV e^{rt} $$"
   ]
  },
  {
   "cell_type": "code",
   "execution_count": null,
   "id": "d0cc70e1",
   "metadata": {},
   "outputs": [],
   "source": [
    "from pyfian.time_value.continuous_compounding import present_value_continuous\n",
    "from pyfian.time_value.continuous_compounding import future_value_continuous\n",
    "\n",
    "PV = 100\n",
    "FV = 200\n",
    "i = 0.05\n",
    "t = 1\n",
    "\n",
    "print(present_value_continuous(FV, i, t))\n",
    "print(future_value_continuous(PV, i, t))"
   ]
  },
  {
   "cell_type": "markdown",
   "id": "f12aad7c",
   "metadata": {},
   "source": [
    "### Discount Rate\n",
    "\n",
    "Bonds can be sold at a discount, at par, or at a premium. When a bond is sold at a discount, the difference between its face value and the lower purchase price serves as additional compensation for the investor, reflecting a yield that exceeds the coupon rate. Conversely, when a bond is sold at par, the yield equals the coupon rate. When sold at a premium, the bond's coupon rate exceeds the yield, and investors pay more upfront in exchange for higher coupon payments. \n",
    "\n",
    "**Table: Cash Flows for Discounted, Par, and Premium Bonds (Face Value = $1,000, YTM = 5%, 3-Year Maturity)**\n",
    "\n",
    "| Bond Type               | Time 0 (Price) | Year 1 | Year 2 | Year 3  |\n",
    "|-------------------------|----------------|--------|--------|---------|\n",
    "| Discounted (3% Coupon)  | -999.18        | 30.00  | 30.00  | 1030.00 |\n",
    "| Par (5% Coupon)         | -1000.00       | 50.00  | 50.00  | 1050.00 |\n",
    "| Premium (7% Coupon)     | -1000.82       | 70.00  | 70.00  | 1070.00 |"
   ]
  },
  {
   "cell_type": "code",
   "execution_count": null,
   "id": "6fd95c4d",
   "metadata": {},
   "outputs": [],
   "source": []
  }
 ],
 "metadata": {
  "kernelspec": {
   "display_name": "pyfian-zlII4RSX-py3.13",
   "language": "python",
   "name": "python3"
  },
  "language_info": {
   "codemirror_mode": {
    "name": "ipython",
    "version": 3
   },
   "file_extension": ".py",
   "mimetype": "text/x-python",
   "name": "python",
   "nbconvert_exporter": "python",
   "pygments_lexer": "ipython3",
   "version": "3.13.5"
  }
 },
 "nbformat": 4,
 "nbformat_minor": 5
}
