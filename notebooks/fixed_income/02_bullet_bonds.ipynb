{
 "cells": [
  {
   "cell_type": "markdown",
   "id": "9503f166",
   "metadata": {},
   "source": [
    "# Bullet Bonds\n",
    "\n",
    "The definition of a bullet bond is very simple - it's a bond that repays all the principal at the end of the period. Here's an example of the cash flows from a bullet bond: \n",
    "\n",
    "\n"
   ]
  },
  {
   "cell_type": "code",
   "execution_count": 10,
   "id": "965d53ba",
   "metadata": {},
   "outputs": [
    {
     "name": "stdout",
     "output_type": "stream",
     "text": [
      "[500.0, 500.0, 1500.0]\n"
     ]
    },
    {
     "data": {
      "image/png": "[encoded data removed]",
      "text/plain": [
       "<Figure size 1000x600 with 1 Axes>"
      ]
     },
     "metadata": {},
     "output_type": "display_data"
    },
    {
     "name": "stdout",
     "output_type": "stream",
     "text": [
      "None\n"
     ]
    }
   ],
   "source": [
    "from pyfian.fixed_income.bond import BulletBond\n",
    "\n",
    "\n",
    "bond = BulletBond(\"2020-01-01\", \"2025-01-01\", 50, 1, notional=1000)\n",
    "\n",
    "print(bond.cash_flows(\"2022-01-01\"))\n",
    "print(bond.plot_cash_flows(valuation_date=\"2022-01-01\", bond_price=940))"
   ]
  },
  {
   "cell_type": "markdown",
   "id": "fa6ddbcf",
   "metadata": {},
   "source": [
    "## Dollar Value of Basis Point\n",
    "\n",
    "A basis point (often abbreviated as \"bp\") is a unit of measure used in finance to describe small changes in percentages, interest rates, or other financial metrics. One basis point equals 0.01%, or one-hundredth of a percentage point. For example, 100 basis points equal 1% (100 × 0.01% = 1%).\n",
    "\n",
    "The dollar value of a basis point (DVBP or DV01, \"dollar value of a 1 basis point move\") measures how much the value of a financial instrument (like a bond, loan, or swap) changes when the interest rate shifts by one basis point. It quantifies the sensitivity of the instrument's price to a small change in interest rates."
   ]
  },
  {
   "cell_type": "code",
   "execution_count": 11,
   "id": "a77eb4bc",
   "metadata": {},
   "outputs": [
    {
     "data": {
      "text/plain": [
       "np.float64(-0.126737963695291)"
      ]
     },
     "execution_count": 11,
     "metadata": {},
     "output_type": "execute_result"
    }
   ],
   "source": [
    "bond.dv01(yield_to_maturity=5, bond_price=940, valuation_date=\"2022-01-01\")"
   ]
  },
  {
   "cell_type": "markdown",
   "id": "88e9bb6b",
   "metadata": {},
   "source": [
    "## Duration\n",
    "\n",
    "### Duration of a Zero Coupon Bond\n",
    "\n",
    "The duration of a bond represents how sensitive a bond price is to changes in the interest rate. We can formulate this mathmaticatically as: \n",
    "\n",
    "$$D = \\frac{dP}{dr} \\frac{1}{P}$$\n",
    "\n",
    "Let $Z(t,T)$ be the price a zero coupon bond, then the duration of the bond will be: \n",
    "\n",
    "$$ D = \\frac{d Z(t,T)}{dr} \\frac{1}{Z(t,T)} = - \\frac{1}{Z(t,T)} \\left(-(T-t) e^{-r (T-t)} \\right) = T-t$$\n",
    "\n",
    "So in the case of a zero coupon bond the duration is simply the time to maturity, therefore the name of duration. \n",
    "\n",
    "### Macaulay Duration\n",
    "\n",
    "Consider a security with price: \n",
    "\n",
    "$$P = \\sum _{j=1}^n \\frac{c/2}{\\left(1 + \\frac{y}{2}\\right)^j} + \\frac{100}{\\left( 1 + \\frac{y}{2}\\right)^n}$$\n",
    "\n",
    "The Macaulay Duration is: \n",
    "\n",
    "$$D^{MC} = - \\frac{1 + \\frac{y}{2}}{P}  \\frac{dP}{dy}$$\n",
    "\n",
    "### Modified Duration\n",
    "\n",
    "Plugging the equation of Macaulay duration into the expression for the duration of a bond we obtain: \n",
    "\n",
    "$$MD = \\frac{D^{MC}}{1 + \\frac{y}{2}}$$\n",
    "\n",
    "### Duration\n",
    "\n",
    "Let's say we wanted to find the duration for any bullet bond. We can decompose the bond into a portfolio of zero coupon bonds and then find the duration of the portfolio as a weighted average: \n",
    "\n",
    "$$D_\\pi = w_1 D_1 + w_2 D_2$$\n",
    "$$w_i = \\frac{N_i P_i}{\\Pi}$$"
   ]
  },
  {
   "cell_type": "code",
   "execution_count": 12,
   "id": "2e5cdacb",
   "metadata": {},
   "outputs": [
    {
     "name": "stdout",
     "output_type": "stream",
     "text": [
      "5.002739725967517\n"
     ]
    }
   ],
   "source": [
    "bond_zero_coupon = BulletBond(\n",
    "    \"2020-01-01\",\n",
    "    \"2025-01-01\",\n",
    "    cpn=0,\n",
    "    cpn_freq=0,\n",
    ")\n",
    "\n",
    "print(bond_zero_coupon.modified_duration(yield_to_maturity=5))"
   ]
  },
  {
   "cell_type": "markdown",
   "id": "b5f7b9fc",
   "metadata": {},
   "source": [
    "## Convexity\n",
    "\n",
    "### What is Convexity?\n",
    "\n",
    "Convexity measures the curvature in the relationship between a bond's price and its yield, capturing the non-linear sensitivity of the bond price to changes in interest rates. While duration provides a linear approximation of price changes, convexity accounts for the fact that the price-yield relationship is curved, improving the accuracy of price change predictions, especially for larger yield shifts.\n",
    "\n",
    "Mathematically, convexity is defined as the second derivative of the bond price with respect to the yield, scaled by the bond price:\n",
    "\n",
    "$$ C = \\frac{1}{P} \\frac{d^2P}{dy^2} $$\n",
    "\n",
    "where ( P ) is the bond price, and ( y ) is the yield.\n",
    "\n",
    "### Convexity of a Zero Coupon Bond\n",
    "\n",
    "For a zero coupon bond with price ( Z(t,T) = e^{-r (T-t)} ), where ( r ) is the interest rate and ( T-t ) is the time to maturity, we can calculate the convexity as follows:\n",
    "\n",
    "$$ \\frac{dZ}{dr} = -(T-t) e^{-r (T-t)} $$\n",
    "\n",
    "$$ \\frac{d^2Z}{dr^2} = (T-t)^2 e^{-r (T-t)} $$\n",
    "\n",
    "$$ C = \\frac{1}{Z(t,T)} \\frac{d^2Z}{dr^2} = \\frac{(T-t)^2 e^{-r (T-t)}}{e^{-r (T-t)}} = (T-t)^2 $$\n",
    "\n",
    "Thus, for a zero coupon bond, the convexity is the square of the time to maturity.\n",
    "\n",
    "### Convexity for a Coupon-Bearing Bond\n",
    "\n",
    "Consider a bond with price:\n",
    "\n",
    "$$ P = \\sum_{j=1}^n \\frac{c/2}{\\left(1 + \\frac{y}{2}\\right)^j} + \\frac{100}{\\left(1 + \\frac{y}{2}\\right)^n} $$\n",
    "\n",
    "where ( c ) is the annual coupon rate, ( y ) is the yield, and ( n ) is the number of periods. The convexity is:\n",
    "\n",
    "$$ C = \\frac{1}{P} \\frac{1}{\\left(1 + \\frac{y}{2}\\right)^2} \\sum_{j=1}^n \\frac{j (j+1) (c/2)}{\\left(1 + \\frac{y}{2}\\right)^j} + \\frac{n (n+1) (100)}{\\left(1 + \\frac{y}{2}\\right)^{n+2}} $$\n",
    "\n",
    "### Portfolio Convexity\n",
    "\n",
    "For a portfolio of bonds, the convexity is the weighted average of the individual bonds' convexities:\n",
    "\n",
    "$$ C_\\pi = \\sum_i w_i C_i $$\n",
    "\n",
    "where ( $w_i = \\frac{N_i P_i}{\\Pi}$ ), ( $N_i$ ) is the number of bonds, ( $P_i$ ) is the price of bond ( $i $), and ( $\\Pi$ ) is the total portfolio value."
   ]
  },
  {
   "cell_type": "code",
   "execution_count": 13,
   "id": "46b4d3d7",
   "metadata": {},
   "outputs": [
    {
     "name": "stdout",
     "output_type": "stream",
     "text": [
      "30.0301444916812\n"
     ]
    }
   ],
   "source": [
    "bond_zero_coupon = BulletBond(\n",
    "    \"2020-01-01\",\n",
    "    \"2025-01-01\",\n",
    "    cpn=0,\n",
    "    cpn_freq=0,\n",
    ")\n",
    "\n",
    "print(bond_zero_coupon.convexity(yield_to_maturity=10))"
   ]
  },
  {
   "cell_type": "code",
   "execution_count": 14,
   "id": "c8061e40",
   "metadata": {},
   "outputs": [
    {
     "name": "stdout",
     "output_type": "stream",
     "text": [
      "62.075920690313055\n"
     ]
    }
   ],
   "source": [
    "bond_zero_coupon = BulletBond(\n",
    "    \"2020-01-01\",\n",
    "    \"2025-01-01\",\n",
    "    cpn=0,\n",
    "    cpn_freq=0,\n",
    "    notional=100,\n",
    "    valuation_date=\"2020-01-01\",\n",
    "    yield_to_maturity=0.1,\n",
    ")\n",
    "print(bond_zero_coupon._bond_price)"
   ]
  },
  {
   "cell_type": "code",
   "execution_count": 15,
   "id": "2c72dab2",
   "metadata": {},
   "outputs": [
    {
     "data": {
      "text/plain": [
       "4.547945205479452"
      ]
     },
     "execution_count": 15,
     "metadata": {},
     "output_type": "execute_result"
    }
   ],
   "source": [
    "duration = bond_zero_coupon.modified_duration()\n",
    "duration"
   ]
  },
  {
   "cell_type": "code",
   "execution_count": 16,
   "id": "e3b7a862",
   "metadata": {},
   "outputs": [
    {
     "data": {
      "text/plain": [
       "24.81830123338849"
      ]
     },
     "execution_count": 16,
     "metadata": {},
     "output_type": "execute_result"
    }
   ],
   "source": [
    "convexity = bond_zero_coupon.convexity()\n",
    "convexity"
   ]
  },
  {
   "cell_type": "code",
   "execution_count": 17,
   "id": "053c7c86",
   "metadata": {},
   "outputs": [
    {
     "data": {
      "text/plain": [
       "-0.00045467045536962125"
      ]
     },
     "execution_count": 17,
     "metadata": {},
     "output_type": "execute_result"
    }
   ],
   "source": [
    "(\n",
    "    bond_zero_coupon.price_from_yield(yield_to_maturity=0.1001)\n",
    "    / bond_zero_coupon.price_from_yield(yield_to_maturity=0.100)\n",
    "    - 1\n",
    ")"
   ]
  },
  {
   "cell_type": "code",
   "execution_count": 18,
   "id": "e46d62a9",
   "metadata": {},
   "outputs": [
    {
     "data": {
      "text/plain": [
       "-0.00045467042904177824"
      ]
     },
     "execution_count": 18,
     "metadata": {},
     "output_type": "execute_result"
    }
   ],
   "source": [
    "dr = 0.0001\n",
    "-duration * dr + convexity / 2 * (dr) ** 2"
   ]
  },
  {
   "cell_type": "code",
   "execution_count": null,
   "id": "5a6e951d",
   "metadata": {},
   "outputs": [],
   "source": []
  }
 ],
 "metadata": {
  "kernelspec": {
   "display_name": "Python 3",
   "language": "python",
   "name": "python3"
  },
  "language_info": {
   "codemirror_mode": {
    "name": "ipython",
    "version": 3
   },
   "file_extension": ".py",
   "mimetype": "text/x-python",
   "name": "python",
   "nbconvert_exporter": "python",
   "pygments_lexer": "ipython3",
   "version": "3.12.7"
  }
 },
 "nbformat": 4,
 "nbformat_minor": 5
}
