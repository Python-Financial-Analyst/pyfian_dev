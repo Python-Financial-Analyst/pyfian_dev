{
 "cells": [
  {
   "cell_type": "markdown",
   "id": "9503f166",
   "metadata": {},
   "source": [
    "# Bullet Bonds\n",
    "\n",
    "The definition of a bullet bond is very simple - it's a bond that repays all the principal at the end of the period. The payment flow is calculated as: \n",
    "\n",
    "\n"
   ]
  },
  {
   "cell_type": "code",
   "execution_count": 1,
   "id": "965d53ba",
   "metadata": {},
   "outputs": [
    {
     "name": "stdout",
     "output_type": "stream",
     "text": [
      "4.331962979617337\n",
      "20.684931506849313\n",
      "[50.0, 50.0, 1050.0]\n"
     ]
    }
   ],
   "source": [
    "from pyfian.fixed_income.bond import BulletBond\n",
    "\n",
    "\n",
    "bond = BulletBond('2020-01-01', '2025-01-01', 5, 1, notional=1000)\n",
    "\n",
    "print(bond.cash_flows('2022-01-01'))\n",
    "\n",
    "print(bond.modified_duration(yield_to_maturity=0.05))\n",
    "print(bond.accrued_interest('2023-06-01'))\n",
    "\n",
    "\n"
   ]
  },
  {
   "cell_type": "markdown",
   "id": "88e9bb6b",
   "metadata": {},
   "source": [
    "## Duration and Convexity\n",
    "\n",
    "### Duration of a Zero Coupon Bond\n",
    "\n",
    "The duration of a bond represents how sensitive a bond price is to changes in the interest rate. We can formulate this mathmaticatically as: \n",
    "\n",
    "$$D = \\frac{dP}{dr} \\frac{1}{P}$$\n",
    "\n",
    "Let $Z(t,T)$ be the price a zero coupon bond, then the duration of the bond will be: \n",
    "\n",
    "$$ D = \\frac{d Z(t,T)}{dr} \\frac{1}{Z(t,T)} = - \\frac{1}{Z(t,T)} \\left(-(T-t) e^{-r (T-t)} \\right) = T-t$$\n",
    "\n",
    "So in the case of a zero coupon bond the duration is simply the time to maturity, therefore the name of duration. \n",
    "\n",
    "### Macaulay Duration\n",
    "\n",
    "Consider a security with price: \n",
    "\n",
    "$$P = \\sum _{j=1}^n \\frac{c/2}{\\left(1 + \\frac{y}{2}\\right)^j} + \\frac{100}{\\left( 1 + \\frac{y}{2}\\right)^n}$$\n",
    "\n",
    "The Macaulay Duration is: \n",
    "\n",
    "$$D^{MC} = - \\frac{1 + \\frac{y}{2}}{P}  \\frac{dP}{dy}$$\n",
    "\n",
    "### Modified Duration\n",
    "\n",
    "Plugging the equation of Macaulay duration into the expression for the duration of a bond we obtain: \n",
    "\n",
    "$$MD = \\frac{D^{MC}}{1 + \\frac{y}{2}}$$\n",
    "\n",
    "### Duration\n",
    "\n",
    "Let's say we wanted to find the duration for any bullet bond. We can decompose the bond into a portfolio of zero coupon bonds and then find the duration of the portfolio as a weighted average: \n",
    "\n",
    "$$D_\\pi = w_1 D_1 + w_2 D_2$$\n",
    "$$w_i = \\frac{N_i P_i}{\\Pi}$$"
   ]
  },
  {
   "cell_type": "code",
   "execution_count": 16,
   "id": "2e5cdacb",
   "metadata": {},
   "outputs": [
    {
     "ename": "AttributeError",
     "evalue": "'BulletBond' object has no attribute '_bond_price'",
     "output_type": "error",
     "traceback": [
      "\u001b[31m---------------------------------------------------------------------------\u001b[39m",
      "\u001b[31mAttributeError\u001b[39m                            Traceback (most recent call last)",
      "\u001b[36mCell\u001b[39m\u001b[36m \u001b[39m\u001b[32mIn[16]\u001b[39m\u001b[32m, line 1\u001b[39m\n\u001b[32m----> \u001b[39m\u001b[32m1\u001b[39m bond_zero_coupon = \u001b[43mBulletBond\u001b[49m\u001b[43m(\u001b[49m\u001b[33;43m'\u001b[39;49m\u001b[33;43m2020-01-01\u001b[39;49m\u001b[33;43m'\u001b[39;49m\u001b[43m,\u001b[49m\u001b[43m \u001b[49m\u001b[33;43m'\u001b[39;49m\u001b[33;43m2021-01-01\u001b[39;49m\u001b[33;43m'\u001b[39;49m\u001b[43m,\u001b[49m\u001b[43m \u001b[49m\u001b[32;43m0\u001b[39;49m\u001b[43m,\u001b[49m\u001b[43m \u001b[49m\u001b[32;43m1\u001b[39;49m\u001b[43m,\u001b[49m\u001b[43m \u001b[49m\u001b[43mnotional\u001b[49m\u001b[43m \u001b[49m\u001b[43m=\u001b[49m\u001b[43m \u001b[49m\u001b[32;43m1000\u001b[39;49m\u001b[43m,\u001b[49m\u001b[43m \u001b[49m\u001b[43mbond_price\u001b[49m\u001b[43m=\u001b[49m\u001b[32;43m900\u001b[39;49m\u001b[43m,\u001b[49m\u001b[43m \u001b[49m\u001b[43mvaluation_date\u001b[49m\u001b[43m=\u001b[49m\u001b[33;43m'\u001b[39;49m\u001b[33;43m2020-01-01\u001b[39;49m\u001b[33;43m'\u001b[39;49m\u001b[43m)\u001b[49m\n\u001b[32m      3\u001b[39m \u001b[38;5;28mprint\u001b[39m(bond_zero_coupon.modified_duration(yield_to_maturity=\u001b[32m11.11\u001b[39m))\n",
      "\u001b[36mFile \u001b[39m\u001b[32m~/Documents/pyfian_dev/src/pyfian/fixed_income/bond.py:102\u001b[39m, in \u001b[36m__init__\u001b[39m\u001b[34m(self, issue_dt, maturity, cpn, cpn_freq, notional, settlement_convention_t_plus, record_date_t_minus, valuation_date, yield_to_maturity, bond_price)\u001b[39m\n\u001b[32m     99\u001b[39m     \u001b[38;5;28;01mraise\u001b[39;00m \u001b[38;5;167;01mValueError\u001b[39;00m(\u001b[33m\"\u001b[39m\u001b[33mValuation date must be set if bond_price is set.\u001b[39m\u001b[33m\"\u001b[39m)\n\u001b[32m    100\u001b[39m \u001b[38;5;28;01mif\u001b[39;00m yield_to_maturity \u001b[38;5;129;01mis\u001b[39;00m \u001b[38;5;28;01mNone\u001b[39;00m:\n\u001b[32m    101\u001b[39m     \u001b[38;5;66;03m# Check if self._bond_price is approximately equal to the bond_price, else raise ValueError\u001b[39;00m\n\u001b[32m--> \u001b[39m\u001b[32m102\u001b[39m     \u001b[38;5;28;01mif\u001b[39;00m (\n\u001b[32m    103\u001b[39m         \u001b[38;5;28mself\u001b[39m._bond_price \u001b[38;5;129;01mis\u001b[39;00m \u001b[38;5;129;01mnot\u001b[39;00m \u001b[38;5;28;01mNone\u001b[39;00m\n\u001b[32m    104\u001b[39m         \u001b[38;5;129;01mand\u001b[39;00m \u001b[38;5;28mabs\u001b[39m(\u001b[38;5;28mself\u001b[39m._bond_price - bond_price) / \u001b[38;5;28mself\u001b[39m._bond_price > \u001b[32m1e-5\u001b[39m\n\u001b[32m    105\u001b[39m     ):\n\u001b[32m    106\u001b[39m         \u001b[38;5;28;01mraise\u001b[39;00m \u001b[38;5;167;01mValueError\u001b[39;00m(\n\u001b[32m    107\u001b[39m             \u001b[33m\"\u001b[39m\u001b[33mBond price calculated by yield to maturity does not match the current bond price.\u001b[39m\u001b[33m\"\u001b[39m\n\u001b[32m    108\u001b[39m         )\n\u001b[32m    109\u001b[39m \u001b[38;5;28mself\u001b[39m.set_bond_price(bond_price, valuation_date)\n",
      "\u001b[31mAttributeError\u001b[39m: 'BulletBond' object has no attribute '_bond_price'"
     ]
    }
   ],
   "source": [
    "bond_zero_coupon = BulletBond('2020-01-01', '2021-01-01', 0, 1, notional = 1000, bond_price=900, valuation_date='2020-01-01')\n",
    "\n",
    "print(bond_zero_coupon.modified_duration(yield_to_maturity=11.11))\n",
    "\n"
   ]
  }
 ],
 "metadata": {
  "kernelspec": {
   "display_name": "pyfian-zlII4RSX-py3.13",
   "language": "python",
   "name": "python3"
  },
  "language_info": {
   "codemirror_mode": {
    "name": "ipython",
    "version": 3
   },
   "file_extension": ".py",
   "mimetype": "text/x-python",
   "name": "python",
   "nbconvert_exporter": "python",
   "pygments_lexer": "ipython3",
   "version": "3.13.5"
  }
 },
 "nbformat": 4,
 "nbformat_minor": 5
}
