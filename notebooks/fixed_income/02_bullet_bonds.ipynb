{
 "cells": [
  {
   "cell_type": "markdown",
   "id": "fd1e58c6",
   "metadata": {},
   "source": [
    "<a href=\"https://colab.research.google.com/github/Python-Financial-Analyst/pyfian_dev/blob/main/notebooks/fixed_income/02_bullet_bonds.ipynb\" target=\"_blank\">\n",
    "  <img src=\"https://colab.research.google.com/assets/colab-badge.svg\" alt=\"Open in Colab\"/>\n",
    "</a>"
   ]
  },
  {
   "cell_type": "markdown",
   "id": "26db6fee",
   "metadata": {},
   "source": [
    "## Bullet Bonds\n",
    "\n",
    "\n",
    "A bullet bond is a type of fixed-income security with a very straightforward repayment structure.\n",
    "\n",
    "### Key Features\n",
    "1. **No Amortization**  \n",
    "   - The issuer does not repay any portion of the principal during the life of the bond.  \n",
    "   - Only interest (coupon) payments are made periodically (e.g., semi-annual or annual).\n",
    "\n",
    "2. **Principal Repaid at Maturity**  \n",
    "   - The entire face value (principal) is repaid in one \"bullet\" payment at the end of the bond’s term.  \n",
    "   - This makes it different from amortizing bonds (like many mortgages), where principal is gradually repaid.\n",
    "\n",
    "3. **Predictable Cash Flow**  \n",
    "   - Investors receive regular coupon payments and then a large lump sum at maturity.  \n",
    "   - This makes bullet bonds relatively simple to understand and model.\n",
    "\n",
    "### Advantages\n",
    "- **For issuers**: Lower cash outflow during the life of the bond since they don’t repay principal until maturity.  \n",
    "- **For investors**: Predictable stream of income plus a known lump-sum repayment date.\n",
    "\n",
    "### Risks\n",
    "- **Credit risk**: Since principal repayment is concentrated at the end, investors bear the risk that the issuer might default before maturity.  \n",
    "- **Refinancing risk for issuers**: They must have sufficient liquidity or refinancing ability to repay the lump sum when due.  \n",
    "\n",
    "### Common Examples\n",
    "- Many **corporate bonds** and **sovereign bonds** are structured as bullet bonds.  \n",
    "- Eurobonds and U.S. Treasury notes/bonds are classic examples.\n",
    "\n"
   ]
  },
  {
   "cell_type": "code",
   "execution_count": 33,
   "id": "d86340c3",
   "metadata": {},
   "outputs": [
    {
     "data": {
      "text/markdown": [
       "## Bond Cash Flows Table\n",
       "\n",
       "| Date       | Cash Flow Value |\n",
       "|------------|-----------------|\n",
       "| 2020-04-01 | 1.25            |\n",
       "| 2020-07-01 | 1.25            |\n",
       "| 2020-10-01 | 1.25            |\n",
       "| 2021-01-01 | 1.25            |\n",
       "| 2021-04-01 | 1.25            |\n",
       "| 2021-07-01 | 1.25            |\n",
       "| 2021-10-01 | 1.25            |\n",
       "| 2022-01-01 | 1.25            |\n",
       "| 2022-04-01 | 1.25            |\n",
       "| 2022-07-01 | 1.25            |\n",
       "| 2022-10-01 | 1.25            |\n",
       "| 2023-01-01 | 1.25            |\n",
       "| 2023-04-01 | 1.25            |\n",
       "| 2023-07-01 | 1.25            |\n",
       "| 2023-10-01 | 1.25            |\n",
       "| 2024-01-01 | 1.25            |\n",
       "| 2024-04-01 | 1.25            |\n",
       "| 2024-07-01 | 1.25            |\n",
       "| 2024-10-01 | 1.25            |\n",
       "| 2025-01-01 | 101.25            |\n"
      ],
      "text/plain": [
       "<IPython.core.display.Markdown object>"
      ]
     },
     "metadata": {},
     "output_type": "display_data"
    }
   ],
   "source": [
    "from pyfian.fixed_income.fixed_rate_bond import FixedRateBullet\n",
    "\n",
    "from IPython.display import Markdown\n",
    "\n",
    "bond = FixedRateBullet(\"2020-01-01\", \"2025-01-01\", 5, 4, notional=100)\n",
    "\n",
    "\n",
    "def display_bond_cash_flows(cash_flow_dict):\n",
    "    table = \"## Bond Cash Flows Table\\n\\n\"\n",
    "    table += \"| Date       | Cash Flow Value |\\n\"\n",
    "    table += \"|------------|-----------------|\\n\"\n",
    "    for time, value in sorted(cash_flow_dict.items(), key=lambda x: x[0]):\n",
    "        table += f\"| {time.strftime('%Y-%m-%d')} | {value:.2f}            |\\n\"\n",
    "    display(Markdown(table))\n",
    "\n",
    "\n",
    "display_bond_cash_flows(bond.payment_flow)"
   ]
  },
  {
   "cell_type": "markdown",
   "id": "e4517bb2",
   "metadata": {},
   "source": [
    "## Bond Day-Counting Conventions\n",
    "\n",
    "These rules decide how to count days for calculating bond interest:\n",
    "\n",
    "- **30/360**: Counts each month as 30 days, year as 360 days. Simple but less accurate. Used in some corporate bonds.\n",
    "- **30E/360**: Like 30/360, but if a date is the 31st, it’s counted as the 30th. Used in Eurobonds.\n",
    "- **Actual/Actual**: Counts real days in the period and year (365 or 366). Most accurate. Used in US Treasuries (ISDA) or international bonds (ICMA).\n",
    "- **Actual/360**: Counts real days in the period, but uses a 360-day year. Common in money markets like loans.\n",
    "- **Actual/365**: Counts real days in the period, uses a 365-day year. Used in some bond markets.\n",
    "- **30/365**: Counts each month as 30 days, year as 365 days. Rare, used in specific financial contracts.\n",
    "- **Actual/Actual-Bond**: Same as Actual/Actual (ICMA), counts real days in period and coupon period (e.g., half-year). Used in bond markets."
   ]
  },
  {
   "cell_type": "code",
   "execution_count": 27,
   "id": "981d1824",
   "metadata": {},
   "outputs": [
    {
     "data": {
      "text/markdown": [
       "## YTM Table (Settlement Date: 2023-03-01)\n",
       "\n",
       "| Bond | Day Count Convention | YTM |\n",
       "|------|---------------------|------------------|\n",
       "| bond_1 | DayCount30360() | 0.050000 |\n",
       "| bond_2 | DayCount30E360() | 0.050000 |\n",
       "| bond_3 | DayCountActual360() | 0.050000 |\n",
       "| bond_4 | DayCountActual365() | 0.050000 |\n",
       "| bond_5 | DayCount30365() | 0.050000 |\n",
       "| bond_6 | DayCountActualActualBond() | 0.050000 |"
      ],
      "text/plain": [
       "<IPython.core.display.Markdown object>"
      ]
     },
     "metadata": {},
     "output_type": "display_data"
    }
   ],
   "source": [
    "from IPython.display import Markdown\n",
    "import matplotlib.pyplot as plt\n",
    "from pyfian.fixed_income.fixed_rate_bond import FixedRateBullet\n",
    "\n",
    "# Define day-count conventions and their display labels\n",
    "DAY_COUNT_CONVENTIONS = {\n",
    "    \"30/360\": \"30/360\",\n",
    "    \"30e/360\": \"30E/360\",\n",
    "    \"actual/360\": \"ACT/360\",\n",
    "    \"actual/365\": \"ACT/365\",\n",
    "    \"30/365\": \"30/365\",\n",
    "    \"actual/actual-Bond\": \"ACT/ACT (Bond)\"\n",
    "}\n",
    "\n",
    "# Create bonds with different day-count conventions\n",
    "bonds = {\n",
    "    f\"bond_{i+1}\": FixedRateBullet(\n",
    "        issue_dt=\"2020-01-01\",\n",
    "        maturity=\"2025-01-01\",\n",
    "        cpn=5.0,\n",
    "        cpn_freq=2,\n",
    "        notional=100,\n",
    "        day_count_convention=dcc\n",
    "    )\n",
    "    for i, (dcc, _) in enumerate(DAY_COUNT_CONVENTIONS.items())\n",
    "}\n",
    "\n",
    "def dcc_label(dcc_obj):\n",
    "    \"\"\"\n",
    "    Return a human-readable label for a day-count convention.\n",
    "    \n",
    "    Args:\n",
    "        dcc_obj: String or object representing the day-count convention.\n",
    "    \n",
    "    Returns:\n",
    "        str: Clean label for the day-count convention.\n",
    "    \"\"\"\n",
    "    if isinstance(dcc_obj, str):\n",
    "        return DAY_COUNT_CONVENTIONS.get(dcc_obj, dcc_obj)\n",
    "    return DAY_COUNT_CONVENTIONS.get(dcc_obj.__class__.__name__, str(dcc_obj))\n",
    "\n",
    "def display_bond_accrued_interest(bonds, settlement_date=\"2023-03-01\"):\n",
    "    \"\"\"\n",
    "    Display a Markdown table of accrued interest for bonds.\n",
    "    \n",
    "    Args:\n",
    "        bonds: Dict of bond names to FixedRateBullet objects.\n",
    "        settlement_date: Date for accrued interest calculation (default: 2023-03-01).\n",
    "    \n",
    "    Returns:\n",
    "        Markdown: Table with bond names, day-count conventions, and accrued interest.\n",
    "    \"\"\"\n",
    "    table = [\n",
    "        f\"## YTM Table (Settlement Date: {settlement_date})\\n\",\n",
    "        \"| Bond | Day Count Convention | YTM |\",\n",
    "        \"|------|---------------------|------------------|\"\n",
    "    ]\n",
    "    \n",
    "    for name, bond in bonds.items():\n",
    "        dcc = getattr(bond, \"day_count_convention\", None)\n",
    "        label = dcc_label(dcc) if dcc else \"Unknown\"\n",
    "        try:\n",
    "            ai = bond.yield_to_maturity(price=100)\n",
    "            ai_str = f\"{ai:.6f}\"\n",
    "        except Exception as e:\n",
    "            ai_str = f\"Error: {str(e)}\"\n",
    "        table.append(f\"| {name} | {label} | {ai_str} |\")\n",
    "    \n",
    "    return Markdown(\"\\n\".join(table))\n",
    "\n",
    "# Display the accrued interest table\n",
    "display(display_bond_accrued_interest(bonds, settlement_date=\"2023-03-01\"))\n"
   ]
  },
  {
   "cell_type": "markdown",
   "id": "e14885e9",
   "metadata": {},
   "source": [
    "### Calculating Bond Price from Discount Curve\n",
    "\n",
    "The price of a bond is the present value of its future cash flows, which consist of periodic coupon payments and the face value paid at maturity. A discount curve provides the discount factors needed to compute these present values, accounting for the time value of money and interest rate risk. Each cash flow is multiplied by the discount factor corresponding to its payment time, and the sum of these discounted cash flows gives the bond's price.\n",
    "\n",
    "Consider a 5-year bond with:\n",
    "- **Face Value**: $100\n",
    "- **Annual Coupon Rate**: 5% (paid semi-annually, so $2.50 every 6 months)\n",
    "- **Maturity**: 5 years\n",
    "\n",
    "##### 1) Identify Cash Flows\n",
    "- **Coupon Payments**: $2.50 at `t = 0.5, 1.0, ..., 4.5` years (semi-annual).\n",
    "- **Final Payment**: $102.50 at `t = 5.0` years (face value + final coupon).\n",
    "\n",
    "##### 2) Apply Discount Curve\n",
    "Using the `DummyCurve` discount factor, defined as `discount_t(t) = 1 / (1 + 0.05 * t)`, each cash flow is discounted:\n",
    "- At `t = 0.5`: $2.50 / (1 + 0.05 * 0.5) ≈ $2.439$\n",
    "- At `t = 5.0`: $102.50 / (1 + 0.05 * 5.0) = $102.50 / 1.25 = $82.0$\n",
    "\n",
    "##### 3) Calculate Bond Price\n",
    "Sum the discounted cash flows:\n",
    "- $2.439 + $2.381 + ... + $82.0 ≈ $102.066$\n",
    "\n",
    "This total represents the bond's price, reflecting the present value of all future payments adjusted by the discount curve."
   ]
  },
  {
   "cell_type": "code",
   "execution_count": 22,
   "id": "59b08e26",
   "metadata": {},
   "outputs": [
    {
     "name": "stdout",
     "output_type": "stream",
     "text": [
      "4.488654508629179\n"
     ]
    }
   ],
   "source": [
    "from pyfian.fixed_income.fixed_rate_bond import FixedRateBullet\n",
    "\n",
    "bond = FixedRateBullet(issue_dt = '2020-01-01', maturity='2025-01-01', cpn = 5, cpn_freq=1, notional=1000, yield_to_maturity=5, settlement_date=\"2021-01-01\")\n",
    "\n",
    "print(bond.get_price())\n",
    "\n"
   ]
  },
  {
   "cell_type": "markdown",
   "id": "362d93c9",
   "metadata": {},
   "source": [
    "## Duration\n",
    "\n",
    "Duration measures a bond's price sensitivity to changes in interest rates and represents the weighted average time to receive the bond's cash flows. Mathematically, duration approximates the percentage change in a bond's price for a small change in yield, expressed as:\n",
    "\n",
    "$$D = -\\frac{1}{P} \\cdot \\frac{dP}{dr}$$\n",
    "\n",
    "The negative sign reflects the inverse relationship between bond prices and yields."
   ]
  },
  {
   "cell_type": "code",
   "execution_count": 16,
   "id": "1a2e2958",
   "metadata": {},
   "outputs": [],
   "source": [
    "from pyfian.fixed_income.fixed_rate_bond import FixedRateBullet\n",
    "\n",
    "bond_duration_example = FixedRateBullet(issue_dt = '2020-01-01', maturity='2025-01-01', cpn = 5, cpn_freq=1, notional=1000, yield_to_maturity=5, settlement_date=\"2021-01-01\")"
   ]
  },
  {
   "cell_type": "markdown",
   "id": "6a8a645f",
   "metadata": {},
   "source": [
    "### Macaulay Duration\n",
    "\n",
    "Macaulay duration is the weighted average time until a bond's cash flows are received, expressed in years. It is calculated as:\n",
    "\n",
    "$$\\frac{\\sum_{t=1}^n \\frac{t \\cdot C_t}{(1 + y)^t} + \\frac{n \\cdot FV}{(1 + y)^n}}{P}$$\n",
    "\n",
    "where:\n",
    "- $C_t$: Cash flow (coupon payment) at time $t$\n",
    "- $FV$: Face value of the bond\n",
    "- $y$: Yield to maturity (per period)\n",
    "- $n$: Number of periods until maturity\n",
    "- $P$: Present value (current price) of the bond\n",
    "\n",
    "For a zero-coupon bond, since there are no coupon payments ($C_t = 0$), the Macaulay duration simplifies to the time to maturity, $T - t$, where $T$ is the maturity date and $t$ is the current date."
   ]
  },
  {
   "cell_type": "code",
   "execution_count": 18,
   "id": "b8459af1",
   "metadata": {},
   "outputs": [
    {
     "name": "stdout",
     "output_type": "stream",
     "text": [
      "1.1175133907\n"
     ]
    }
   ],
   "source": [
    "macaulay_duration = bond_duration_example.macaulay_duration()\n",
    "print(macaulay_duration)"
   ]
  },
  {
   "cell_type": "markdown",
   "id": "4081217e",
   "metadata": {},
   "source": [
    "### Modified Duration\n",
    "\n",
    "Modified duration directly measures the percentage change in a bond's price for a 1% change in yield. It is derived from the Macaulay duration as:\n",
    "\n",
    "$$D^{\\text{Mod}} = \\frac{D^{\\text{MC}}}{1 + \\frac{y}{k}}$$\n",
    "\n",
    "where:\n",
    "- $y$: Annual yield to maturity\n",
    "- $k$: Number of compounding periods per year (e.g., $k = 2$ for semi-annual, $k = 1$ for annual)\n",
    "\n",
    "For a zero-coupon bond with annual compounding ($k = 1$), the modified duration is:\n",
    "\n",
    "$$D^{\\text{Mod}} = \\frac{T - t}{1 + y}$$\n"
   ]
  },
  {
   "cell_type": "code",
   "execution_count": 20,
   "id": "c1487524",
   "metadata": {},
   "outputs": [
    {
     "name": "stdout",
     "output_type": "stream",
     "text": [
      "0.3192895402\n"
     ]
    }
   ],
   "source": [
    "modified_duration = bond_duration_example.modified_duration()\n",
    "\n",
    "print(modified_duration)"
   ]
  },
  {
   "cell_type": "markdown",
   "id": "8f5672ba",
   "metadata": {},
   "source": [
    "\n",
    "## Convexity\n",
    "\n",
    "Convexity measures the sensitivity of a bond’s duration to changes in interest rates and captures the non-linear relationship between bond prices and yields. It is the second derivative of the bond’s price with respect to the yield, scaled by the price:\n",
    "\n",
    "$$C = \\frac{1}{P} \\cdot \\frac{d^2P}{dr^2}$$\n",
    "\n",
    "For a zero-coupon bond with annual compounding, the convexity is:\n",
    "\n",
    "$$C = \\frac{(T - t)(T - t + 1)}{(1 + y)^2}$$"
   ]
  },
  {
   "cell_type": "code",
   "execution_count": 21,
   "id": "72a23378",
   "metadata": {},
   "outputs": [
    {
     "name": "stdout",
     "output_type": "stream",
     "text": [
      "0.162101523\n"
     ]
    }
   ],
   "source": [
    "from pyfian.fixed_income.fixed_rate_bond import FixedRateBullet\n",
    "\n",
    "convexity_example_bond = FixedRateBullet(issue_dt = '2020-01-01', maturity='2025-01-01', cpn = 5, cpn_freq=1, notional=1000, yield_to_maturity=5, settlement_date=\"2021-01-01\")\n",
    "\n",
    "convexity = convexity_example_bond.convexity()\n",
    "\n",
    "print(convexity)"
   ]
  },
  {
   "cell_type": "markdown",
   "id": "a9d8c325",
   "metadata": {},
   "source": [
    "## Effective Duration \n",
    "\n",
    "Effective Duration finds the duration for bonds that have options embedded into them. For example a callable bond is an example of a bonds that has an option embedded into it. \n",
    "\n",
    "### Spread Effective Duration\n",
    "\n",
    "The spread effective duration measures how much a bond price changes with respect to a change in the bond's credit spread. "
   ]
  }
 ],
 "metadata": {
  "kernelspec": {
   "display_name": "pyfian-zlII4RSX-py3.13",
   "language": "python",
   "name": "python3"
  },
  "language_info": {
   "codemirror_mode": {
    "name": "ipython",
    "version": 3
   },
   "file_extension": ".py",
   "mimetype": "text/x-python",
   "name": "python",
   "nbconvert_exporter": "python",
   "pygments_lexer": "ipython3",
   "version": "3.13.5"
  }
 },
 "nbformat": 4,
 "nbformat_minor": 5
}
