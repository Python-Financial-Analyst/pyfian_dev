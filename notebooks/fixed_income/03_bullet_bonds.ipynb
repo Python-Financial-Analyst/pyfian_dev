{
 "cells": [
  {
   "cell_type": "markdown",
   "id": "26db6fee",
   "metadata": {},
   "source": [
    "## Bullet Bonds\n",
    "\n",
    "### Cash Flows\n",
    "\n",
    "Consider a bond that was issued on January 1st 2020, and which matures on January 1st 2025. This bond pays 5% coupon which is paid once a year. "
   ]
  },
  {
   "cell_type": "code",
   "execution_count": 22,
   "id": "d86340c3",
   "metadata": {},
   "outputs": [
    {
     "data": {
      "text/plain": [
       "{Timestamp('2021-01-01 00:00:00'): 5.0,\n",
       " Timestamp('2022-01-01 00:00:00'): 5.0,\n",
       " Timestamp('2023-01-01 00:00:00'): 5.0,\n",
       " Timestamp('2024-01-01 00:00:00'): 5.0,\n",
       " Timestamp('2025-01-01 00:00:00'): 105.0}"
      ]
     },
     "execution_count": 22,
     "metadata": {},
     "output_type": "execute_result"
    }
   ],
   "source": [
    "from pyfian.fixed_income.bond import BulletBond\n",
    "\n",
    "bond = BulletBond('2020-01-01', '2025-01-01', 5, 1, notional=100)\n",
    "\n",
    "bond.payment_flow"
   ]
  },
  {
   "cell_type": "markdown",
   "id": "e4517bb2",
   "metadata": {},
   "source": [
    "## Bond Day-Counting Conventions\n",
    "\n",
    "These rules decide how to count days for calculating bond interest:\n",
    "\n",
    "- **30/360**: Counts each month as 30 days, year as 360 days. Simple but less accurate. Used in some corporate bonds.\n",
    "- **30E/360**: Like 30/360, but if a date is the 31st, it’s counted as the 30th. Used in Eurobonds.\n",
    "- **Actual/Actual**: Counts real days in the period and year (365 or 366). Most accurate. Used in US Treasuries (ISDA) or international bonds (ICMA).\n",
    "- **Actual/360**: Counts real days in the period, but uses a 360-day year. Common in money markets like loans.\n",
    "- **Actual/365**: Counts real days in the period, uses a 365-day year. Used in some bond markets.\n",
    "- **30/365**: Counts each month as 30 days, year as 365 days. Rare, used in specific financial contracts.\n",
    "- **Actual/Actual-Bond**: Same as Actual/Actual (ICMA), counts real days in period and coupon period (e.g., half-year). Used in bond markets."
   ]
  },
  {
   "cell_type": "code",
   "execution_count": 68,
   "id": "981d1824",
   "metadata": {},
   "outputs": [
    {
     "name": "stdout",
     "output_type": "stream",
     "text": [
      "0.41666666666666663\n",
      "0.41666666666666663\n",
      "0.4097222222222222\n",
      "0.4041095890410959\n",
      "0.410958904109589\n",
      "1.6298342541436464\n"
     ]
    }
   ],
   "source": [
    "bond_1 = BulletBond('2020-01-01', '2025-01-01', 5, 2, notional=100, day_count_convention = '30/360')\n",
    "bond_2 = BulletBond('2020-01-01', '2025-01-01', 5, 2, notional=100, day_count_convention = '30e/360')\n",
    "#bond_3 = BulletBond('2020-01-01', '2025-01-01', 5, 1, notional=100, day_count_convention = 'actual/actual')\n",
    "bond_4 = BulletBond('2020-01-01', '2025-01-01', 5, 2, notional=100, day_count_convention = 'actual/360')\n",
    "bond_5 = BulletBond('2020-01-01', '2025-01-01', 5, 2, notional=100, day_count_convention = 'actual/365')\n",
    "bond_6 = BulletBond('2020-01-01', '2025-01-01', 5, 2, notional=100, day_count_convention = '30/365')\n",
    "bond_7 = BulletBond('2020-01-01', '2025-01-01', 5, 2, notional=100, day_count_convention = 'actual/actual-Bond')\n",
    "\n",
    "print(bond_1.accrued_interest(settlement_date='2023-03-01'))\n",
    "print(bond_2.accrued_interest(settlement_date='2023-03-01'))\n",
    "print(bond_4.accrued_interest(settlement_date='2023-03-01'))\n",
    "print(bond_5.accrued_interest(settlement_date='2023-03-01'))\n",
    "print(bond_6.accrued_interest(settlement_date='2023-03-01'))\n",
    "print(bond_7.accrued_interest(settlement_date='2023-03-01'))\n",
    "\n"
   ]
  },
  {
   "cell_type": "markdown",
   "id": "c30631ee",
   "metadata": {},
   "source": [
    "### "
   ]
  }
 ],
 "metadata": {
  "kernelspec": {
   "display_name": "pyfian-zlII4RSX-py3.13",
   "language": "python",
   "name": "python3"
  },
  "language_info": {
   "codemirror_mode": {
    "name": "ipython",
    "version": 3
   },
   "file_extension": ".py",
   "mimetype": "text/x-python",
   "name": "python",
   "nbconvert_exporter": "python",
   "pygments_lexer": "ipython3",
   "version": "3.13.5"
  }
 },
 "nbformat": 4,
 "nbformat_minor": 5
}
