{
 "cells": [
  {
   "cell_type": "markdown",
   "id": "26db6fee",
   "metadata": {},
   "source": [
    "## Bullet Bonds\n",
    "\n",
    "\n",
    "A bullet bond is a type of fixed-income security with a very straightforward repayment structure.\n",
    "\n",
    "### Key Features\n",
    "1. **No Amortization**  \n",
    "   - The issuer does not repay any portion of the principal during the life of the bond.  \n",
    "   - Only interest (coupon) payments are made periodically (e.g., semi-annual or annual).\n",
    "\n",
    "2. **Principal Repaid at Maturity**  \n",
    "   - The entire face value (principal) is repaid in one \"bullet\" payment at the end of the bond’s term.  \n",
    "   - This makes it different from amortizing bonds (like many mortgages), where principal is gradually repaid.\n",
    "\n",
    "3. **Predictable Cash Flow**  \n",
    "   - Investors receive regular coupon payments and then a large lump sum at maturity.  \n",
    "   - This makes bullet bonds relatively simple to understand and model.\n",
    "\n",
    "### Advantages\n",
    "- **For issuers**: Lower cash outflow during the life of the bond since they don’t repay principal until maturity.  \n",
    "- **For investors**: Predictable stream of income plus a known lump-sum repayment date.\n",
    "\n",
    "### Risks\n",
    "- **Credit risk**: Since principal repayment is concentrated at the end, investors bear the risk that the issuer might default before maturity.  \n",
    "- **Refinancing risk for issuers**: They must have sufficient liquidity or refinancing ability to repay the lump sum when due.  \n",
    "\n",
    "### Common Examples\n",
    "- Many **corporate bonds** and **sovereign bonds** are structured as bullet bonds.  \n",
    "- Eurobonds and U.S. Treasury notes/bonds are classic examples.\n",
    "\n"
   ]
  },
  {
   "cell_type": "code",
   "execution_count": 104,
   "id": "d86340c3",
   "metadata": {},
   "outputs": [
    {
     "data": {
      "text/markdown": [
       "## Bond Cash Flows Table\n",
       "\n",
       "| Date       | Cash Flow Value |\n",
       "|------------|-----------------|\n",
       "| 2020-04-01 | 1.25            |\n",
       "| 2020-07-01 | 1.25            |\n",
       "| 2020-10-01 | 1.25            |\n",
       "| 2021-01-01 | 1.25            |\n",
       "| 2021-04-01 | 1.25            |\n",
       "| 2021-07-01 | 1.25            |\n",
       "| 2021-10-01 | 1.25            |\n",
       "| 2022-01-01 | 1.25            |\n",
       "| 2022-04-01 | 1.25            |\n",
       "| 2022-07-01 | 1.25            |\n",
       "| 2022-10-01 | 1.25            |\n",
       "| 2023-01-01 | 1.25            |\n",
       "| 2023-04-01 | 1.25            |\n",
       "| 2023-07-01 | 1.25            |\n",
       "| 2023-10-01 | 1.25            |\n",
       "| 2024-01-01 | 1.25            |\n",
       "| 2024-04-01 | 1.25            |\n",
       "| 2024-07-01 | 1.25            |\n",
       "| 2024-10-01 | 1.25            |\n",
       "| 2025-01-01 | 101.25            |\n"
      ],
      "text/plain": [
       "<IPython.core.display.Markdown object>"
      ]
     },
     "metadata": {},
     "output_type": "display_data"
    }
   ],
   "source": [
    "from pyfian.fixed_income.bond import BulletBond\n",
    "\n",
    "bond = BulletBond('2020-01-01', '2025-01-01', 5, 4, notional=100)\n",
    "\n",
    "\n",
    "\n",
    "from IPython.display import Markdown\n",
    "from pandas import Timestamp\n",
    "\n",
    "def display_bond_cash_flows(cash_flow_dict):\n",
    "    table = \"## Bond Cash Flows Table\\n\\n\"\n",
    "    table += \"| Date       | Cash Flow Value |\\n\"\n",
    "    table += \"|------------|-----------------|\\n\"\n",
    "    for time, value in sorted(cash_flow_dict.items(), key=lambda x: x[0]):\n",
    "        table += f\"| {time.strftime('%Y-%m-%d')} | {value:.2f}            |\\n\"\n",
    "    display(Markdown(table))\n",
    "\n",
    "\n",
    "display_bond_cash_flows(bond.payment_flow)\n",
    "\n"
   ]
  },
  {
   "cell_type": "markdown",
   "id": "e4517bb2",
   "metadata": {},
   "source": [
    "## Bond Day-Counting Conventions\n",
    "\n",
    "These rules decide how to count days for calculating bond interest:\n",
    "\n",
    "- **30/360**: Counts each month as 30 days, year as 360 days. Simple but less accurate. Used in some corporate bonds.\n",
    "- **30E/360**: Like 30/360, but if a date is the 31st, it’s counted as the 30th. Used in Eurobonds.\n",
    "- **Actual/Actual**: Counts real days in the period and year (365 or 366). Most accurate. Used in US Treasuries (ISDA) or international bonds (ICMA).\n",
    "- **Actual/360**: Counts real days in the period, but uses a 360-day year. Common in money markets like loans.\n",
    "- **Actual/365**: Counts real days in the period, uses a 365-day year. Used in some bond markets.\n",
    "- **30/365**: Counts each month as 30 days, year as 365 days. Rare, used in specific financial contracts.\n",
    "- **Actual/Actual-Bond**: Same as Actual/Actual (ICMA), counts real days in period and coupon period (e.g., half-year). Used in bond markets."
   ]
  },
  {
   "cell_type": "code",
   "execution_count": null,
   "id": "981d1824",
   "metadata": {},
   "outputs": [
    {
     "name": "stdout",
     "output_type": "stream",
     "text": [
      "0.41666666666666663\n",
      "0.41666666666666663\n",
      "0.4097222222222222\n",
      "0.4041095890410959\n",
      "0.410958904109589\n",
      "1.6298342541436464\n"
     ]
    },
    {
     "data": {
      "text/markdown": [
       "## Accrued Interest Table (Settlement Date: 2023-03-01)\n",
       "\n",
       "| Bond   | Day Count Convention | Accrued Interest |\n",
       "|--------|----------------------|------------------|\n",
       "| bond_1 | 30/360 | 0.416667 |\n",
       "| bond_2 | 30E/360 | 0.416667 |\n",
       "| bond_4 | actual/360 | 0.409722 |\n",
       "| bond_5 | actual/365 | 0.404110 |\n",
       "| bond_6 | 30/365 | 0.410959 |\n",
       "| bond_7 | actual/actual-Bond | 1.629834 |\n"
      ],
      "text/plain": [
       "<IPython.core.display.Markdown object>"
      ]
     },
     "metadata": {},
     "output_type": "display_data"
    }
   ],
   "source": [
    "bond_1 = BulletBond('2020-01-01', '2025-01-01', 5, 2, notional=100, day_count_convention = '30/360')\n",
    "bond_2 = BulletBond('2020-01-01', '2025-01-01', 5, 2, notional=100, day_count_convention = '30e/360')\n",
    "#bond_3 = BulletBond('2020-01-01', '2025-01-01', 5, 1, notional=100, day_count_convention = 'actual/actual')\n",
    "bond_4 = BulletBond('2020-01-01', '2025-01-01', 5, 2, notional=100, day_count_convention = 'actual/360')\n",
    "bond_5 = BulletBond('2020-01-01', '2025-01-01', 5, 2, notional=100, day_count_convention = 'actual/365')\n",
    "bond_6 = BulletBond('2020-01-01', '2025-01-01', 5, 2, notional=100, day_count_convention = '30/365')\n",
    "bond_7 = BulletBond('2020-01-01', '2025-01-01', 5, 2, notional=100, day_count_convention = 'actual/actual-Bond')\n",
    "\n",
    "from IPython.display import Markdown\n",
    "\n",
    "# --- Pretty day-count label helper ---\n",
    "def dcc_label(dcc_obj):\n",
    "    \"\"\"\n",
    "    Return a clean, human-readable label for common day-count objects.\n",
    "    Works if the bond stores: a) a string like '30/360', or\n",
    "    b) an instance like DayCount30360, DayCountActualActualBond, etc.\n",
    "    \"\"\"\n",
    "    # If already a clean string, just use it\n",
    "    if isinstance(dcc_obj, str):\n",
    "        return dcc_obj\n",
    "\n",
    "    # If it exposes a 'name' or similar\n",
    "    for attr in (\"name\", \"label\", \"code\"):\n",
    "        if hasattr(dcc_obj, attr):\n",
    "            val = getattr(dcc_obj, attr)\n",
    "            if isinstance(val, str) and val.strip():\n",
    "                return val\n",
    "\n",
    "    # Fall back to class name mapping\n",
    "    cls = dcc_obj.__class__.__name__\n",
    "\n",
    "    # Common mappings for pyfian-style names\n",
    "    mapping = {\n",
    "        \"DayCount30360\": \"30/360\",\n",
    "        \"DayCount30E360\": \"30E/360\",\n",
    "        \"DayCountActual360\": \"ACT/360\",\n",
    "        \"DayCountActual365\": \"ACT/365\",\n",
    "        \"DayCount30365\": \"30/365\",\n",
    "        \"DayCountActualActualBond\": \"ACT/ACT (Bond)\",\n",
    "        \"DayCountActualActual\": \"ACT/ACT\",\n",
    "    }\n",
    "\n",
    "    if cls in mapping:\n",
    "        return mapping[cls]\n",
    "\n",
    "    # Generic fallback: split CamelCase and add spaces\n",
    "    import re\n",
    "    spaced = re.sub(r\"(?<!^)(?=[A-Z])\", \" \", cls)\n",
    "    return spaced\n",
    "\n",
    "# --- Display function in your style ---\n",
    "def display_bond_accrued_interest(bond_dict, settlement_date=\"2023-03-01\"):\n",
    "    table = f\"## Accrued Interest Table (Settlement Date: {settlement_date})\\n\\n\"\n",
    "    table += \"| Bond   | Day Count Convention | Accrued Interest |\\n\"\n",
    "    table += \"|--------|----------------------|------------------|\\n\"\n",
    "\n",
    "    for name, bond in bond_dict.items():\n",
    "        # Try to fetch the day-count stored on the bond\n",
    "        dcc = getattr(bond, \"day_count_convention\", None)\n",
    "        label = dcc_label(dcc) if dcc is not None else \"(unknown)\"\n",
    "\n",
    "        # Compute accrued interest (handle alternate param name)\n",
    "        try:\n",
    "            ai = bond.accrued_interest(settlement_date=settlement_date)\n",
    "        except TypeError:\n",
    "            ai = bond.accrued_interest(settlement=settlement_date)\n",
    "\n",
    "        # Format numeric nicely\n",
    "        ai_str = f\"{ai:.6f}\" if isinstance(ai, (int, float)) else str(ai)\n",
    "        table += f\"| {name} | {label} | {ai_str} |\\n\"\n",
    "\n",
    "    display(Markdown(table))\n",
    "\n",
    "# --- Usage with your bonds ---\n",
    "bonds = {\n",
    "    \"bond_1\": bond_1,  # 30/360\n",
    "    \"bond_2\": bond_2,  # 30E/360\n",
    "    \"bond_4\": bond_4,  # ACT/360\n",
    "    \"bond_5\": bond_5,  # ACT/365\n",
    "    \"bond_6\": bond_6,  # 30/365\n",
    "    \"bond_7\": bond_7,  # ACT/ACT (Bond)\n",
    "}\n",
    "\n",
    "display_bond_accrued_interest(bonds, settlement_date=\"2023-03-01\")\n",
    "\n",
    "\n"
   ]
  },
  {
   "cell_type": "markdown",
   "id": "e14885e9",
   "metadata": {},
   "source": [
    "### Calculating Bond Price from Discount Curve\n",
    "\n",
    "The price of a bond is the present value of its future cash flows, which consist of periodic coupon payments and the face value paid at maturity. A discount curve provides the discount factors needed to compute these present values, accounting for the time value of money and interest rate risk. Each cash flow is multiplied by the discount factor corresponding to its payment time, and the sum of these discounted cash flows gives the bond's price.\n",
    "\n",
    "Consider a 5-year bond with:\n",
    "- **Face Value**: $100\n",
    "- **Annual Coupon Rate**: 5% (paid semi-annually, so $2.50 every 6 months)\n",
    "- **Maturity**: 5 years\n",
    "\n",
    "##### 1) Identify Cash Flows\n",
    "- **Coupon Payments**: $2.50 at `t = 0.5, 1.0, ..., 4.5` years (semi-annual).\n",
    "- **Final Payment**: $102.50 at `t = 5.0` years (face value + final coupon).\n",
    "\n",
    "##### 2) Apply Discount Curve\n",
    "Using the `DummyCurve` discount factor, defined as `discount_t(t) = 1 / (1 + 0.05 * t)`, each cash flow is discounted:\n",
    "- At `t = 0.5`: $2.50 / (1 + 0.05 * 0.5) ≈ $2.439$\n",
    "- At `t = 5.0`: $102.50 / (1 + 0.05 * 5.0) = $102.50 / 1.25 = $82.0$\n",
    "\n",
    "##### 3) Calculate Bond Price\n",
    "Sum the discounted cash flows:\n",
    "- $2.439 + $2.381 + ... + $82.0 ≈ $102.066$\n",
    "\n",
    "This total represents the bond's price, reflecting the present value of all future payments adjusted by the discount curve."
   ]
  },
  {
   "cell_type": "code",
   "execution_count": 80,
   "id": "59b08e26",
   "metadata": {},
   "outputs": [
    {
     "name": "stdout",
     "output_type": "stream",
     "text": [
      "{0.5: 2.439024390243903, 1.0: 2.380952380952381, 1.5: 2.3255813953488373, 2.0: 2.2727272727272725, 2.5: 2.2222222222222223, 3.0: 2.173913043478261, 3.5: 2.127659574468085, 4.0: 2.0833333333333335, 4.5: 2.040816326530612, 5.0: 82.0}\n"
     ]
    },
    {
     "data": {
      "text/markdown": [
       "## Discounted Cash Flows Table\n",
       "\n",
       "| Time (Years) | Discounted Cash Flow Value |\n",
       "|--------------|----------------------------|\n",
       "| 0.5          |                     2.4390 |\n",
       "| 1.0          |                     2.3810 |\n",
       "| 1.5          |                     2.3256 |\n",
       "| 2.0          |                     2.2727 |\n",
       "| 2.5          |                     2.2222 |\n",
       "| 3.0          |                     2.1739 |\n",
       "| 3.5          |                     2.1277 |\n",
       "| 4.0          |                     2.0833 |\n",
       "| 4.5          |                     2.0408 |\n",
       "| 5.0          |                         82 |\n"
      ],
      "text/plain": [
       "<IPython.core.display.Markdown object>"
      ]
     },
     "metadata": {},
     "output_type": "display_data"
    }
   ],
   "source": [
    "class DummyCurve:\n",
    "             def discount_t(self, t):\n",
    "                return 1 / (1 + 0.05 * t)\n",
    "\n",
    "print(bond_1.value_with_curve(DummyCurve())[1])\n",
    "\n",
    "from IPython.display import Markdown\n",
    "\n",
    "def display_cash_flows_table(cash_flow_dict):\n",
    "    \"\"\"\n",
    "    Display a Markdown table of discounted cash flows from a dictionary of time:value pairs.\n",
    "    \n",
    "    Args:\n",
    "        cash_flow_dict (dict): Dictionary with time points (float) as keys and\n",
    "                              discounted cash flow values (float) as values.\n",
    "    \"\"\"\n",
    "    # Start the Markdown table\n",
    "    table = \"## Discounted Cash Flows Table\\n\\n\"\n",
    "    table += \"| Time (Years) | Discounted Cash Flow Value |\\n\"\n",
    "    table += \"|--------------|----------------------------|\\n\"\n",
    "    \n",
    "    # Sort times to ensure chronological order\n",
    "    for time in sorted(cash_flow_dict.keys()):\n",
    "        value = cash_flow_dict[time]\n",
    "        # Round to 4 decimal places, unless the value is a whole number (e.g., 82.0)\n",
    "        formatted_value = f\"{value:.4f}\" if value < 10 else f\"{value:.4f}\".rstrip('0').rstrip('.')\n",
    "        table += f\"| {time:.1f}          | {formatted_value:>26} |\\n\"\n",
    "    \n",
    "    # Display the table\n",
    "    display(Markdown(table))\n",
    "\n",
    "display_cash_flows_table(bond_1.value_with_curve(DummyCurve())[1])\n"
   ]
  }
 ],
 "metadata": {
  "kernelspec": {
   "display_name": "pyfian-zlII4RSX-py3.13",
   "language": "python",
   "name": "python3"
  },
  "language_info": {
   "codemirror_mode": {
    "name": "ipython",
    "version": 3
   },
   "file_extension": ".py",
   "mimetype": "text/x-python",
   "name": "python",
   "nbconvert_exporter": "python",
   "pygments_lexer": "ipython3",
   "version": "3.13.5"
  }
 },
 "nbformat": 4,
 "nbformat_minor": 5
}
