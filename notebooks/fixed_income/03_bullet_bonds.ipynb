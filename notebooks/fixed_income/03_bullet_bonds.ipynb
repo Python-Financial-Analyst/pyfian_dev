{
 "cells": [
  {
   "cell_type": "markdown",
   "id": "26db6fee",
   "metadata": {},
   "source": [
    "## Bullet Bonds\n",
    "\n",
    "### Cash Flows\n",
    "\n",
    "Consider a bond that was issued on January 1st 2020, and which matures on January 1st 2025. This bond pays 5% coupon which is paid once a year. "
   ]
  },
  {
   "cell_type": "code",
   "execution_count": 22,
   "id": "d86340c3",
   "metadata": {},
   "outputs": [
    {
     "data": {
      "text/plain": [
       "{Timestamp('2021-01-01 00:00:00'): 5.0,\n",
       " Timestamp('2022-01-01 00:00:00'): 5.0,\n",
       " Timestamp('2023-01-01 00:00:00'): 5.0,\n",
       " Timestamp('2024-01-01 00:00:00'): 5.0,\n",
       " Timestamp('2025-01-01 00:00:00'): 105.0}"
      ]
     },
     "execution_count": 22,
     "metadata": {},
     "output_type": "execute_result"
    }
   ],
   "source": [
    "from pyfian.fixed_income.bond import BulletBond\n",
    "\n",
    "bond = BulletBond('2020-01-01', '2025-01-01', 5, 1, notional=100)\n",
    "\n",
    "bond.payment_flow"
   ]
  },
  {
   "cell_type": "markdown",
   "id": "e4517bb2",
   "metadata": {},
   "source": [
    "## Bond Day-Counting Conventions\n",
    "\n",
    "These rules decide how to count days for calculating bond interest:\n",
    "\n",
    "- **30/360**: Counts each month as 30 days, year as 360 days. Simple but less accurate. Used in some corporate bonds.\n",
    "- **30E/360**: Like 30/360, but if a date is the 31st, it’s counted as the 30th. Used in Eurobonds.\n",
    "- **Actual/Actual**: Counts real days in the period and year (365 or 366). Most accurate. Used in US Treasuries (ISDA) or international bonds (ICMA).\n",
    "- **Actual/360**: Counts real days in the period, but uses a 360-day year. Common in money markets like loans.\n",
    "- **Actual/365**: Counts real days in the period, uses a 365-day year. Used in some bond markets.\n",
    "- **30/365**: Counts each month as 30 days, year as 365 days. Rare, used in specific financial contracts.\n",
    "- **Actual/Actual-Bond**: Same as Actual/Actual (ICMA), counts real days in period and coupon period (e.g., half-year). Used in bond markets."
   ]
  },
  {
   "cell_type": "code",
   "execution_count": 38,
   "id": "981d1824",
   "metadata": {},
   "outputs": [
    {
     "ename": "ValueError",
     "evalue": "Unknown day count convention: actual/actual\n Day convention must be one of: ['30/360', '30e/360', 'actual/actual-ISDA', 'actual/360', 'actual/365', '30/365', 'actual/actual-Bond']",
     "output_type": "error",
     "traceback": [
      "\u001b[31m---------------------------------------------------------------------------\u001b[39m",
      "\u001b[31mValueError\u001b[39m                                Traceback (most recent call last)",
      "\u001b[36mCell\u001b[39m\u001b[36m \u001b[39m\u001b[32mIn[38]\u001b[39m\u001b[32m, line 3\u001b[39m\n\u001b[32m      1\u001b[39m bond_1 = BulletBond(\u001b[33m'\u001b[39m\u001b[33m2020-01-01\u001b[39m\u001b[33m'\u001b[39m, \u001b[33m'\u001b[39m\u001b[33m2025-01-01\u001b[39m\u001b[33m'\u001b[39m, \u001b[32m5\u001b[39m, \u001b[32m1\u001b[39m, notional=\u001b[32m100\u001b[39m, day_count_convention = \u001b[33m'\u001b[39m\u001b[33m30/360\u001b[39m\u001b[33m'\u001b[39m)\n\u001b[32m      2\u001b[39m bond_2 = BulletBond(\u001b[33m'\u001b[39m\u001b[33m2020-01-01\u001b[39m\u001b[33m'\u001b[39m, \u001b[33m'\u001b[39m\u001b[33m2025-01-01\u001b[39m\u001b[33m'\u001b[39m, \u001b[32m5\u001b[39m, \u001b[32m1\u001b[39m, notional=\u001b[32m100\u001b[39m, day_count_convention = \u001b[33m'\u001b[39m\u001b[33m30e/360\u001b[39m\u001b[33m'\u001b[39m)\n\u001b[32m----> \u001b[39m\u001b[32m3\u001b[39m bond_3 = \u001b[43mBulletBond\u001b[49m\u001b[43m(\u001b[49m\u001b[33;43m'\u001b[39;49m\u001b[33;43m2020-01-01\u001b[39;49m\u001b[33;43m'\u001b[39;49m\u001b[43m,\u001b[49m\u001b[43m \u001b[49m\u001b[33;43m'\u001b[39;49m\u001b[33;43m2025-01-01\u001b[39;49m\u001b[33;43m'\u001b[39;49m\u001b[43m,\u001b[49m\u001b[43m \u001b[49m\u001b[32;43m5\u001b[39;49m\u001b[43m,\u001b[49m\u001b[43m \u001b[49m\u001b[32;43m1\u001b[39;49m\u001b[43m,\u001b[49m\u001b[43m \u001b[49m\u001b[43mnotional\u001b[49m\u001b[43m=\u001b[49m\u001b[32;43m100\u001b[39;49m\u001b[43m,\u001b[49m\u001b[43m \u001b[49m\u001b[43mday_count_convention\u001b[49m\u001b[43m \u001b[49m\u001b[43m=\u001b[49m\u001b[43m \u001b[49m\u001b[33;43m'\u001b[39;49m\u001b[33;43mactual/actual\u001b[39;49m\u001b[33;43m'\u001b[39;49m\u001b[43m)\u001b[49m\n\u001b[32m      4\u001b[39m bond_4 = BulletBond(\u001b[33m'\u001b[39m\u001b[33m2020-01-01\u001b[39m\u001b[33m'\u001b[39m, \u001b[33m'\u001b[39m\u001b[33m2025-01-01\u001b[39m\u001b[33m'\u001b[39m, \u001b[32m5\u001b[39m, \u001b[32m1\u001b[39m, notional=\u001b[32m100\u001b[39m, day_count_convention = \u001b[33m'\u001b[39m\u001b[33mactual/360\u001b[39m\u001b[33m'\u001b[39m)\n\u001b[32m      5\u001b[39m bond_5 = BulletBond(\u001b[33m'\u001b[39m\u001b[33m2020-01-01\u001b[39m\u001b[33m'\u001b[39m, \u001b[33m'\u001b[39m\u001b[33m2025-01-01\u001b[39m\u001b[33m'\u001b[39m, \u001b[32m5\u001b[39m, \u001b[32m1\u001b[39m, notional=\u001b[32m100\u001b[39m, day_count_convention = \u001b[33m'\u001b[39m\u001b[33mactual/365\u001b[39m\u001b[33m'\u001b[39m)\n",
      "\u001b[36mFile \u001b[39m\u001b[32m~/Documents/pyfian_dev/src/pyfian/fixed_income/bond.py:173\u001b[39m, in \u001b[36mBulletBond.__init__\u001b[39m\u001b[34m(self, issue_dt, maturity, cpn, cpn_freq, notional, settlement_convention_t_plus, record_date_t_minus, settlement_date, yield_to_maturity, bond_price, day_count_convention, adjust_to_business_days, following_coupons_day_count, yield_calculation_convention)\u001b[39m\n\u001b[32m    169\u001b[39m \u001b[38;5;28mself\u001b[39m.amortization_flow: \u001b[38;5;28mdict\u001b[39m[pd.Timestamp, \u001b[38;5;28mfloat\u001b[39m] = dict_amortization\n\u001b[32m    171\u001b[39m \u001b[38;5;66;03m# Initialize day count convention, defaulting to 'actual/actual-Bond'\u001b[39;00m\n\u001b[32m    172\u001b[39m \u001b[38;5;28mself\u001b[39m.day_count_convention: DayCountBase = (\n\u001b[32m--> \u001b[39m\u001b[32m173\u001b[39m     \u001b[43mget_day_count_convention\u001b[49m\u001b[43m(\u001b[49m\u001b[43mday_count_convention\u001b[49m\u001b[43m)\u001b[49m\n\u001b[32m    174\u001b[39m     \u001b[38;5;28;01mif\u001b[39;00m \u001b[38;5;28misinstance\u001b[39m(day_count_convention, \u001b[38;5;28mstr\u001b[39m)\n\u001b[32m    175\u001b[39m     \u001b[38;5;28;01melse\u001b[39;00m day_count_convention\n\u001b[32m    176\u001b[39m )\n\u001b[32m    177\u001b[39m \u001b[38;5;28mself\u001b[39m.adjust_to_business_days: \u001b[38;5;28mbool\u001b[39m = adjust_to_business_days\n\u001b[32m    179\u001b[39m \u001b[38;5;28mself\u001b[39m._validate_following_coupons_day_count(following_coupons_day_count)\n",
      "\u001b[36mFile \u001b[39m\u001b[32m~/Documents/pyfian_dev/src/pyfian/utils/day_count.py:912\u001b[39m, in \u001b[36mget_day_count_convention\u001b[39m\u001b[34m(name)\u001b[39m\n\u001b[32m    891\u001b[39m \u001b[38;5;250m\u001b[39m\u001b[33;03m\"\"\"\u001b[39;00m\n\u001b[32m    892\u001b[39m \u001b[33;03mGet the day count convention class instance by name.\u001b[39;00m\n\u001b[32m    893\u001b[39m \n\u001b[32m   (...)\u001b[39m\u001b[32m    908\u001b[39m \u001b[33;03mTrue\u001b[39;00m\n\u001b[32m    909\u001b[39m \u001b[33;03m\"\"\"\u001b[39;00m\n\u001b[32m    911\u001b[39m \u001b[38;5;28;01mif\u001b[39;00m name \u001b[38;5;129;01mnot\u001b[39;00m \u001b[38;5;129;01min\u001b[39;00m DAY_COUNT_CLASSES:\n\u001b[32m--> \u001b[39m\u001b[32m912\u001b[39m     \u001b[38;5;28;01mraise\u001b[39;00m \u001b[38;5;167;01mValueError\u001b[39;00m(\n\u001b[32m    913\u001b[39m         \u001b[33mf\u001b[39m\u001b[33m\"\u001b[39m\u001b[33mUnknown day count convention: \u001b[39m\u001b[38;5;132;01m{\u001b[39;00mname\u001b[38;5;132;01m}\u001b[39;00m\u001b[33m\"\u001b[39m\n\u001b[32m    914\u001b[39m         \u001b[33m\"\u001b[39m\u001b[38;5;130;01m\\n\u001b[39;00m\u001b[33m Day convention must be one of: \u001b[39m\u001b[33m\"\u001b[39m\n\u001b[32m    915\u001b[39m         \u001b[33mf\u001b[39m\u001b[33m\"\u001b[39m\u001b[38;5;132;01m{\u001b[39;00m\u001b[38;5;28mlist\u001b[39m(DAY_COUNT_CLASSES.keys())\u001b[38;5;132;01m}\u001b[39;00m\u001b[33m\"\u001b[39m\n\u001b[32m    916\u001b[39m     )\n\u001b[32m    917\u001b[39m \u001b[38;5;28;01mreturn\u001b[39;00m DAY_COUNT_CLASSES[name]()\n",
      "\u001b[31mValueError\u001b[39m: Unknown day count convention: actual/actual\n Day convention must be one of: ['30/360', '30e/360', 'actual/actual-ISDA', 'actual/360', 'actual/365', '30/365', 'actual/actual-Bond']"
     ]
    }
   ],
   "source": [
    "bond_1 = BulletBond('2020-01-01', '2025-01-01', 5, 1, notional=100, day_count_convention = '30/360')\n",
    "bond_2 = BulletBond('2020-01-01', '2025-01-01', 5, 1, notional=100, day_count_convention = '30e/360')\n",
    "bond_3 = BulletBond('2020-01-01', '2025-01-01', 5, 1, notional=100, day_count_convention = 'actual/actual')\n",
    "bond_4 = BulletBond('2020-01-01', '2025-01-01', 5, 1, notional=100, day_count_convention = 'actual/360')\n",
    "bond_5 = BulletBond('2020-01-01', '2025-01-01', 5, 1, notional=100, day_count_convention = 'actual/365')\n",
    "bond_6 = BulletBond('2020-01-01', '2025-01-01', 5, 1, notional=100, day_count_convention = '30/365')\n",
    "bond_7 = BulletBond('2020-01-01', '2025-01-01', 5, 1, notional=100, day_count_convention = 'actual/actual-Bond')\n"
   ]
  },
  {
   "cell_type": "markdown",
   "id": "c30631ee",
   "metadata": {},
   "source": [
    "### "
   ]
  }
 ],
 "metadata": {
  "kernelspec": {
   "display_name": "pyfian-zlII4RSX-py3.13",
   "language": "python",
   "name": "python3"
  },
  "language_info": {
   "codemirror_mode": {
    "name": "ipython",
    "version": 3
   },
   "file_extension": ".py",
   "mimetype": "text/x-python",
   "name": "python",
   "nbconvert_exporter": "python",
   "pygments_lexer": "ipython3",
   "version": "3.13.5"
  }
 },
 "nbformat": 4,
 "nbformat_minor": 5
}
