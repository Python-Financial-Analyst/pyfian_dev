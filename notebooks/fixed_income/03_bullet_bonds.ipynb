{
 "cells": [
  {
   "cell_type": "markdown",
   "id": "26db6fee",
   "metadata": {},
   "source": [
    "## Bullet Bonds\n",
    "\n",
    "### Cash Flows\n",
    "\n",
    "Consider a bond that was issued on January 1st 2020, and which matures on January 1st 2025. This bond pays 5% coupon which is paid once a year. "
   ]
  },
  {
   "cell_type": "code",
   "execution_count": 22,
   "id": "d86340c3",
   "metadata": {},
   "outputs": [
    {
     "data": {
      "text/plain": [
       "{Timestamp('2021-01-01 00:00:00'): 5.0,\n",
       " Timestamp('2022-01-01 00:00:00'): 5.0,\n",
       " Timestamp('2023-01-01 00:00:00'): 5.0,\n",
       " Timestamp('2024-01-01 00:00:00'): 5.0,\n",
       " Timestamp('2025-01-01 00:00:00'): 105.0}"
      ]
     },
     "execution_count": 22,
     "metadata": {},
     "output_type": "execute_result"
    }
   ],
   "source": [
    "from pyfian.fixed_income.bond import BulletBond\n",
    "\n",
    "bond = BulletBond('2020-01-01', '2025-01-01', 5, 1, notional=100)\n",
    "\n",
    "bond.payment_flow"
   ]
  },
  {
   "cell_type": "markdown",
   "id": "e4517bb2",
   "metadata": {},
   "source": [
    "## Bond Day-Counting Conventions\n",
    "\n",
    "These rules decide how to count days for calculating bond interest:\n",
    "\n",
    "- **30/360**: Counts each month as 30 days, year as 360 days. Simple but less accurate. Used in some corporate bonds.\n",
    "- **30E/360**: Like 30/360, but if a date is the 31st, it’s counted as the 30th. Used in Eurobonds.\n",
    "- **Actual/Actual**: Counts real days in the period and year (365 or 366). Most accurate. Used in US Treasuries (ISDA) or international bonds (ICMA).\n",
    "- **Actual/360**: Counts real days in the period, but uses a 360-day year. Common in money markets like loans.\n",
    "- **Actual/365**: Counts real days in the period, uses a 365-day year. Used in some bond markets.\n",
    "- **30/365**: Counts each month as 30 days, year as 365 days. Rare, used in specific financial contracts.\n",
    "- **Actual/Actual-Bond**: Same as Actual/Actual (ICMA), counts real days in period and coupon period (e.g., half-year). Used in bond markets."
   ]
  },
  {
   "cell_type": "code",
   "execution_count": 68,
   "id": "981d1824",
   "metadata": {},
   "outputs": [
    {
     "name": "stdout",
     "output_type": "stream",
     "text": [
      "0.41666666666666663\n",
      "0.41666666666666663\n",
      "0.4097222222222222\n",
      "0.4041095890410959\n",
      "0.410958904109589\n",
      "1.6298342541436464\n"
     ]
    }
   ],
   "source": [
    "bond_1 = BulletBond('2020-01-01', '2025-01-01', 5, 2, notional=100, day_count_convention = '30/360')\n",
    "bond_2 = BulletBond('2020-01-01', '2025-01-01', 5, 2, notional=100, day_count_convention = '30e/360')\n",
    "#bond_3 = BulletBond('2020-01-01', '2025-01-01', 5, 1, notional=100, day_count_convention = 'actual/actual')\n",
    "bond_4 = BulletBond('2020-01-01', '2025-01-01', 5, 2, notional=100, day_count_convention = 'actual/360')\n",
    "bond_5 = BulletBond('2020-01-01', '2025-01-01', 5, 2, notional=100, day_count_convention = 'actual/365')\n",
    "bond_6 = BulletBond('2020-01-01', '2025-01-01', 5, 2, notional=100, day_count_convention = '30/365')\n",
    "bond_7 = BulletBond('2020-01-01', '2025-01-01', 5, 2, notional=100, day_count_convention = 'actual/actual-Bond')\n",
    "\n",
    "print(bond_1.accrued_interest(settlement_date='2023-03-01'))\n",
    "print(bond_2.accrued_interest(settlement_date='2023-03-01'))\n",
    "print(bond_4.accrued_interest(settlement_date='2023-03-01'))\n",
    "print(bond_5.accrued_interest(settlement_date='2023-03-01'))\n",
    "print(bond_6.accrued_interest(settlement_date='2023-03-01'))\n",
    "print(bond_7.accrued_interest(settlement_date='2023-03-01'))\n",
    "\n"
   ]
  },
  {
   "cell_type": "markdown",
   "id": "e14885e9",
   "metadata": {},
   "source": [
    "### Calculating Bond Price from Discount Curve\n",
    "\n",
    "The price of a bond is determined by calculating the present value of its future cash flows, which include periodic coupon payments and the face value paid at maturity. A discount curve provides the discount factors used to compute these present values by accounting for the time value of money and interest rate risk. Each cash flow is multiplied by the discount factor corresponding to its payment time, and the sum of these discounted cash flows gives the bond's price.\n",
    "\n",
    "For example, consider a bond with semi-annual coupon payments and a face value repaid at maturity. The discount curve, such as oneր\n",
    "System: one defined by DummyCurve (provided in the conversation history), the bond price can be calculated as follows:\n",
    "\n",
    "Cash Flows: For a 5-year bond with a 5% annual coupon rate (paid semi-annually) and a $100 face value, the cash flows are $2.50 every 6 months (at t=0.5, 1.0, ..., 4.5 years) and $102.50 at maturity (t=5.0).\n",
    "\n",
    "Discounting: Each cash flow is multiplied by the discount factor from DummyCurve.discount_t(t) = 1 / (1 + 0.05 * t). For instance:\n",
    "\n",
    "At t=0.5: $2.50 / (1 + 0.05 * 0.5) ≈ $2.439$.\n",
    "\n",
    "At t=5.0: $102.50 / (1 + 0.05 * 5.0) = $82.0$.\n",
    "\n",
    "Bond Price: The sum of these discounted cash flows (e.g., $2.439 + $2.381 + ... + $82.0 ≈ $102.066) is the bond's price.\n",
    "\n",
    "This method ensures the bond price reflects the present value of all future payments, adjusted for the time value of money as defined by the discount curve."
   ]
  },
  {
   "cell_type": "code",
   "execution_count": 76,
   "id": "59b08e26",
   "metadata": {},
   "outputs": [
    {
     "name": "stdout",
     "output_type": "stream",
     "text": [
      "{0.5: 2.439024390243903, 1.0: 2.380952380952381, 1.5: 2.3255813953488373, 2.0: 2.2727272727272725, 2.5: 2.2222222222222223, 3.0: 2.173913043478261, 3.5: 2.127659574468085, 4.0: 2.0833333333333335, 4.5: 2.040816326530612, 5.0: 82.0}\n"
     ]
    },
    {
     "data": {
      "text/markdown": [
       "## Discounted Cash Flows Table\n",
       "\n",
       "| Time (Years) | Discounted Cash Flow Value |\n",
       "|--------------|----------------------------|\n",
       "| 0.5          |                     2.4390 |\n",
       "| 1.0          |                     2.3810 |\n",
       "| 1.5          |                     2.3256 |\n",
       "| 2.0          |                     2.2727 |\n",
       "| 2.5          |                     2.2222 |\n",
       "| 3.0          |                     2.1739 |\n",
       "| 3.5          |                     2.1277 |\n",
       "| 4.0          |                     2.0833 |\n",
       "| 4.5          |                     2.0408 |\n",
       "| 5.0          |                         82 |\n"
      ],
      "text/plain": [
       "<IPython.core.display.Markdown object>"
      ]
     },
     "metadata": {},
     "output_type": "display_data"
    }
   ],
   "source": [
    "class DummyCurve:\n",
    "             def discount_t(self, t):\n",
    "                return 1 / (1 + 0.05 * t)\n",
    "\n",
    "print(bond_1.value_with_curve(DummyCurve())[1])\n",
    "\n",
    "from IPython.display import Markdown\n",
    "\n",
    "def display_cash_flows_table(cash_flow_dict):\n",
    "    \"\"\"\n",
    "    Display a Markdown table of discounted cash flows from a dictionary of time:value pairs.\n",
    "    \n",
    "    Args:\n",
    "        cash_flow_dict (dict): Dictionary with time points (float) as keys and\n",
    "                              discounted cash flow values (float) as values.\n",
    "    \"\"\"\n",
    "    # Start the Markdown table\n",
    "    table = \"## Discounted Cash Flows Table\\n\\n\"\n",
    "    table += \"| Time (Years) | Discounted Cash Flow Value |\\n\"\n",
    "    table += \"|--------------|----------------------------|\\n\"\n",
    "    \n",
    "    # Sort times to ensure chronological order\n",
    "    for time in sorted(cash_flow_dict.keys()):\n",
    "        value = cash_flow_dict[time]\n",
    "        # Round to 4 decimal places, unless the value is a whole number (e.g., 82.0)\n",
    "        formatted_value = f\"{value:.4f}\" if value < 10 else f\"{value:.4f}\".rstrip('0').rstrip('.')\n",
    "        table += f\"| {time:.1f}          | {formatted_value:>26} |\\n\"\n",
    "    \n",
    "    # Display the table\n",
    "    display(Markdown(table))\n",
    "\n",
    "display_cash_flows_table(bond_1.value_with_curve(DummyCurve())[1])\n"
   ]
  }
 ],
 "metadata": {
  "kernelspec": {
   "display_name": "pyfian-zlII4RSX-py3.13",
   "language": "python",
   "name": "python3"
  },
  "language_info": {
   "codemirror_mode": {
    "name": "ipython",
    "version": 3
   },
   "file_extension": ".py",
   "mimetype": "text/x-python",
   "name": "python",
   "nbconvert_exporter": "python",
   "pygments_lexer": "ipython3",
   "version": "3.13.5"
  }
 },
 "nbformat": 4,
 "nbformat_minor": 5
}
