{
 "cells": [
  {
   "cell_type": "markdown",
   "id": "5ac57aad",
   "metadata": {},
   "source": [
    "## Effective Duration \n",
    "\n",
    "Effective Duration finds the duration for bonds that have options embedded into them. For example a callable bond is an example of a bonds that has an option embedded into it. \n",
    "\n",
    "### Spread Effective Duration\n",
    "\n",
    "The spread effective duration measures how much a bond price changes with respect to a change in the bond's credit spread. "
   ]
  },
  {
   "cell_type": "markdown",
   "id": "b7080b4e",
   "metadata": {},
   "source": [
    "## Curves\n",
    "\n",
    "A bond curve respresents the yields for different maturities. \n",
    "\n",
    "### "
   ]
  }
 ],
 "metadata": {
  "kernelspec": {
   "display_name": "pyfian-zlII4RSX-py3.13",
   "language": "python",
   "name": "python3"
  },
  "language_info": {
   "codemirror_mode": {
    "name": "ipython",
    "version": 3
   },
   "file_extension": ".py",
   "mimetype": "text/x-python",
   "name": "python",
   "nbconvert_exporter": "python",
   "pygments_lexer": "ipython3",
   "version": "3.13.5"
  }
 },
 "nbformat": 4,
 "nbformat_minor": 5
}
