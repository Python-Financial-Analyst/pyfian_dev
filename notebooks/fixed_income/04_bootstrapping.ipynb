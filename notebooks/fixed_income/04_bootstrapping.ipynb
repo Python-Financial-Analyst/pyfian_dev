{
 "cells": [
  {
   "cell_type": "markdown",
   "id": "fc0633d9",
   "metadata": {},
   "source": [
    "<a href=\"https://colab.research.google.com/github/Python-Financial-Analyst/pyfian_dev/blob/main/notebooks/fixed_income/04_bootstrapping.ipynb\" target=\"_blank\">\n",
    "  <img src=\"https://colab.research.google.com/assets/colab-badge.svg\" alt=\"Open in Colab\"/>\n",
    "</a>"
   ]
  },
  {
   "cell_type": "code",
   "execution_count": null,
   "id": "3b9fc6e9",
   "metadata": {},
   "outputs": [],
   "source": []
  }
 ],
 "metadata": {
  "language_info": {
   "name": "python"
  }
 },
 "nbformat": 4,
 "nbformat_minor": 5
}
