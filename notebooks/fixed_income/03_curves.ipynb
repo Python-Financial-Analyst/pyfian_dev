{
 "cells": [
  {
   "cell_type": "markdown",
   "id": "8dcc2b1e",
   "metadata": {},
   "source": [
    "<a href=\"https://colab.research.google.com/github/Python-Financial-Analyst/pyfian_dev/blob/main/notebooks/fixed_income/03_curves.ipynb\" target=\"_blank\">\n",
    "  <img src=\"https://colab.research.google.com/assets/colab-badge.svg\" alt=\"Open in Colab\"/>\n",
    "</a>"
   ]
  },
  {
   "cell_type": "markdown",
   "id": "b7080b4e",
   "metadata": {},
   "source": [
    "# Curves\n",
    "\n",
    "A bond yield curve represents the yields of bonds with different maturities, providing insight into how investors value short-term versus long-term debt. The shape of the curve is closely tied to macroeconomic conditions and market expectations.\n",
    "For instance, an upward-sloping yield curve often signals economic growth: investors prefer short-term bonds (or cash equivalents) to fund projects and investments, pushing up short-term demand and yields. Conversely, an inverted yield curve may indicate economic uncertainty or a potential slowdown, as investors seek the safety of longer-term bonds, driving their yields lower relative to short-term bonds.\n",
    "Different types of curves—such as spot curves, forward curves, and par curves—highlight various aspects of bond pricing and interest rate expectations. By analyzing these curves, investors and policymakers gain valuable insights into market sentiment and the broader economic outlook. Here are some examples of curves we can look at:\n",
    "\n",
    "- **Credit Spread**: Difference in yield between bonds of similar maturity but different credit quality, typically corporate vs. Treasury.  \n",
    "\n",
    "- **Forward Curve**: Shows forward rates, implied future interest rates for specific periods. \n",
    "\n",
    "- **Interpolated Curve**: Yields estimated between observed maturities using interpolation.  \n",
    "\n",
    "- **Par Curve**: Coupon rates for bonds priced at par value across maturities.  \n",
    "\n",
    "- **Spot Curve**: Yields on zero-coupon bonds for different maturities.  "
   ]
  },
  {
   "cell_type": "markdown",
   "id": "1d330816",
   "metadata": {},
   "source": [
    "## Curve Shapes"
   ]
  },
  {
   "cell_type": "markdown",
   "id": "71a4bbfa",
   "metadata": {},
   "source": [
    "### Flat Curve\n",
    "\n",
    "A flat yield curve occurs when short-term and long-term bond yields are nearly the same. This shape suggests uncertainty in the economy: investors do not strongly prefer one maturity over another, and the market is signaling that future growth and inflation expectations are unclear. Flat curves often appear during transitions in the business cycle, such as when the economy is shifting from expansion to slowdown."
   ]
  },
  {
   "cell_type": "code",
   "execution_count": null,
   "id": "763a560a",
   "metadata": {},
   "outputs": [
    {
     "ename": "TypeError",
     "evalue": "'FixedRateBullet' object is not iterable",
     "output_type": "error",
     "traceback": [
      "\u001b[31m---------------------------------------------------------------------------\u001b[39m",
      "\u001b[31mTypeError\u001b[39m                                 Traceback (most recent call last)",
      "\u001b[36mCell\u001b[39m\u001b[36m \u001b[39m\u001b[32mIn[11]\u001b[39m\u001b[32m, line 9\u001b[39m\n\u001b[32m      4\u001b[39m \u001b[38;5;28;01mimport\u001b[39;00m\u001b[38;5;250m \u001b[39m\u001b[34;01mmatplotlib\u001b[39;00m\u001b[34;01m.\u001b[39;00m\u001b[34;01mpyplot\u001b[39;00m\u001b[38;5;250m \u001b[39m\u001b[38;5;28;01mas\u001b[39;00m\u001b[38;5;250m \u001b[39m\u001b[34;01mplt\u001b[39;00m\n\u001b[32m      7\u001b[39m bond_duration_example = FixedRateBullet(issue_dt = \u001b[33m'\u001b[39m\u001b[33m2020-01-01\u001b[39m\u001b[33m'\u001b[39m, maturity=\u001b[33m'\u001b[39m\u001b[33m2025-01-01\u001b[39m\u001b[33m'\u001b[39m, cpn = \u001b[32m5\u001b[39m, cpn_freq=\u001b[32m1\u001b[39m, notional=\u001b[32m1000\u001b[39m, yield_to_maturity=\u001b[32m5\u001b[39m, settlement_date=\u001b[33m\"\u001b[39m\u001b[33m2021-01-01\u001b[39m\u001b[33m\"\u001b[39m)\n\u001b[32m----> \u001b[39m\u001b[32m9\u001b[39m flat_curve = \u001b[43mSpotCurve\u001b[49m\u001b[43m(\u001b[49m\u001b[43mcurve_date\u001b[49m\u001b[43m=\u001b[49m\u001b[43mbond\u001b[49m\u001b[43m.\u001b[49m\u001b[43mget_settlement_date\u001b[49m\u001b[43m(\u001b[49m\u001b[43m)\u001b[49m\u001b[43m,\u001b[49m\u001b[43m \u001b[49m\u001b[43mbonds\u001b[49m\u001b[43m=\u001b[49m\u001b[43mbond\u001b[49m\u001b[43m)\u001b[49m\n\u001b[32m     11\u001b[39m flat_curve.plot_curve(t_max=\u001b[32m30\u001b[39m, n=\u001b[32m100\u001b[39m, kind=\u001b[33m\"\u001b[39m\u001b[33mdiscount\u001b[39m\u001b[33m\"\u001b[39m, label=\u001b[33m\"\u001b[39m\u001b[33mDiscount Factor (3\u001b[39m\u001b[33m%\u001b[39m\u001b[33m)\u001b[39m\u001b[33m\"\u001b[39m, color=\u001b[33m\"\u001b[39m\u001b[33mred\u001b[39m\u001b[33m\"\u001b[39m)\n\u001b[32m     13\u001b[39m plt.legend()\n",
      "\u001b[36mFile \u001b[39m\u001b[32m~/Documents/pyfian_dev/src/pyfian/yield_curves/spot_curve.py:142\u001b[39m, in \u001b[36mSpotCurve.__init__\u001b[39m\u001b[34m(self, curve_date, bonds, zero_rates, day_count_convention, yield_calculation_convention)\u001b[39m\n\u001b[32m    138\u001b[39m \u001b[38;5;28;01mif\u001b[39;00m bonds \u001b[38;5;129;01mis\u001b[39;00m \u001b[38;5;28;01mNone\u001b[39;00m \u001b[38;5;129;01mand\u001b[39;00m zero_rates \u001b[38;5;129;01mis\u001b[39;00m \u001b[38;5;28;01mNone\u001b[39;00m:\n\u001b[32m    139\u001b[39m     \u001b[38;5;28;01mraise\u001b[39;00m \u001b[38;5;167;01mValueError\u001b[39;00m(\u001b[33m\"\u001b[39m\u001b[33mEither bonds or zero_rates must be provided\u001b[39m\u001b[33m\"\u001b[39m)\n\u001b[32m    141\u001b[39m \u001b[38;5;28mself\u001b[39m.bonds = (\n\u001b[32m--> \u001b[39m\u001b[32m142\u001b[39m     \u001b[38;5;28;43msorted\u001b[39;49m\u001b[43m(\u001b[49m\u001b[43mbonds\u001b[49m\u001b[43m,\u001b[49m\u001b[43m \u001b[49m\u001b[43mkey\u001b[49m\u001b[43m=\u001b[49m\u001b[38;5;28;43;01mlambda\u001b[39;49;00m\u001b[43m \u001b[49m\u001b[43mx\u001b[49m\u001b[43m:\u001b[49m\u001b[43m \u001b[49m\u001b[43mx\u001b[49m\u001b[43m.\u001b[49m\u001b[43mmaturity\u001b[49m\u001b[43m)\u001b[49m \u001b[38;5;28;01mif\u001b[39;00m bonds \u001b[38;5;129;01mis\u001b[39;00m \u001b[38;5;129;01mnot\u001b[39;00m \u001b[38;5;28;01mNone\u001b[39;00m \u001b[38;5;28;01melse\u001b[39;00m \u001b[38;5;28;01mNone\u001b[39;00m\n\u001b[32m    143\u001b[39m )\n\u001b[32m    144\u001b[39m \u001b[38;5;28mself\u001b[39m.curve_date = pd.to_datetime(curve_date)\n\u001b[32m    146\u001b[39m \u001b[38;5;66;03m# Raise if day_count_convention is neither str nor DayCountBase\u001b[39;00m\n",
      "\u001b[31mTypeError\u001b[39m: 'FixedRateBullet' object is not iterable"
     ]
    }
   ],
   "source": [
    "from pyfian.visualization.mixins import YieldCurvePlotMixin\n",
    "from pyfian.yield_curves.spot_curve import SpotCurve\n",
    "from pyfian.fixed_income.fixed_rate_bond import FixedRateBullet\n",
    "import matplotlib.pyplot as plt\n",
    "\n",
    "\n",
    "flat_curve_example_bond = FixedRateBullet(issue_dt = '2020-01-01', maturity='2025-01-01', cpn = 5, cpn_freq=1, notional=1000, yield_to_maturity=5, settlement_date=\"2021-01-01\")\n",
    "\n",
    "flat_curve = SpotCurve(curve_date=bond.get_settlement_date(), bonds=bond)\n",
    "\n",
    "flat_curve.plot_curve(t_max=30, n=100, kind=\"discount\", label=\"Discount Factor (3%)\", color=\"red\")\n",
    "\n",
    "plt.legend()\n",
    "plt.show()\n",
    "\n",
    "#Why do I get error 'FixedRateBullet' object is not iterable?"
   ]
  },
  {
   "cell_type": "markdown",
   "id": "2264af20",
   "metadata": {},
   "source": [
    "### Upward Sloping Curve\n",
    "\n",
    "An upward-sloping yield curve is the most common shape, where long-term bonds offer higher yields than short-term bonds. This reflects expectations of economic growth and potentially higher inflation in the future, leading investors to demand greater compensation for holding debt over longer horizons. It signals confidence in the economy, as short-term borrowing costs remain relatively low while long-term rates rise with stronger growth outlooks."
   ]
  },
  {
   "cell_type": "markdown",
   "id": "be571305",
   "metadata": {},
   "source": [
    "### Inverted Yield Curve\n",
    "An inverted yield curve occurs when short-term bond yields are higher than long-term yields. This unusual shape often signals investor concern about the economy, as demand for long-term bonds increases to lock in safer, stable returns. Inverted curves are commonly viewed as a warning of potential economic slowdown or recession, reflecting expectations of lower growth and inflation in the future."
   ]
  },
  {
   "cell_type": "markdown",
   "id": "3efa28c3",
   "metadata": {},
   "source": [
    "## Important Concepts"
   ]
  },
  {
   "cell_type": "markdown",
   "id": "93e78dad",
   "metadata": {},
   "source": [
    "\n",
    "### Logarithm of a Curve\n",
    "\n",
    "Taking the logarithm of a yield curve is a common technique to smooth out fluctuations and highlight relative differences between yields across maturities. This can make trends easier to analyze and help in fitting models to observed data.\n",
    "\n",
    "### AER (Annual Equivalent Rate)\n",
    "\n",
    "The Annual Equivalent Rate (AER) represents the annualized interest rate that accounts for compounding over the year. It allows investors to compare returns on different investment products on a consistent annual basis, regardless of how frequently interest is compounded (monthly, quarterly, etc.).\n",
    "\n",
    "The formula for AER is:\n",
    "\n",
    "$$\n",
    "\\text{AER} = \\left(1 + \\frac{i}{n}\\right)^n - 1\n",
    "$$\n",
    "\n",
    "where:  \n",
    "- \\(i\\) = nominal interest rate  \n",
    "- \\(n\\) = number of compounding periods per year  \n",
    "\n",
    "Using AER, investors can directly compare accounts or bonds that compound at different frequencies, ensuring a like-for-like comparison.\n",
    "\n",
    "### BEY (Bond Equivalent Yield)\n",
    "\n",
    "The Bond Equivalent Yield (BEY) converts the yield on a bond, often quoted on a discount or semi-annual basis, into an annualized yield that is comparable to standard coupon-bearing bonds. This is particularly useful for short-term securities like Treasury bills or zero-coupon bonds.\n",
    "\n",
    "For a discount bond (e.g., a T-bill), BEY is calculated as:\n",
    "\n",
    "$$\n",
    "\\text{BEY} = \\frac{F - P}{P} \\cdot \\frac{365}{t}\n",
    "$$\n",
    "\n",
    "where:  \n",
    "- \\(F\\) = face value of the bond  \n",
    "- \\(P\\) = purchase price  \n",
    "- \\(t\\) = days to maturity  \n",
    "\n",
    "For a semi-annual coupon bond, BEY can also be expressed as:\n",
    "\n",
    "$$\n",
    "\\text{BEY} = 2 \\left[ \\left(1 + \\frac{YTM_{\\text{semi-annual}}}{2}\\right)^2 - 1 \\right]\n",
    "$$\n",
    "\n",
    "Using BEY allows investors to compare yields of bonds with different maturities or coupon structures on a consistent annual basis, making it easier to assess relative value across instruments.\n"
   ]
  },
  {
   "cell_type": "code",
   "execution_count": 4,
   "id": "d2ebce42",
   "metadata": {},
   "outputs": [],
   "source": [
    "from pyfian.yield_curves.flat_curve import FlatCurveLog\n",
    "\n",
    "curve_log = FlatCurveLog(0.05, \"2020-01-01\")"
   ]
  }
 ],
 "metadata": {
  "kernelspec": {
   "display_name": "pyfian-zlII4RSX-py3.13",
   "language": "python",
   "name": "python3"
  },
  "language_info": {
   "codemirror_mode": {
    "name": "ipython",
    "version": 3
   },
   "file_extension": ".py",
   "mimetype": "text/x-python",
   "name": "python",
   "nbconvert_exporter": "python",
   "pygments_lexer": "ipython3",
   "version": "3.13.5"
  }
 },
 "nbformat": 4,
 "nbformat_minor": 5
}
