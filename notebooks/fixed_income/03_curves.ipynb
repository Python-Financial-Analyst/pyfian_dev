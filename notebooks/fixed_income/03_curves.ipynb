{
 "cells": [
  {
   "cell_type": "markdown",
   "id": "b7080b4e",
   "metadata": {},
   "source": [
    "## Curves\n",
    "\n",
    "A bond curve respresents the yields for different maturities. \n",
    "\n",
    "### Flat Curve\n",
    "\n",
    "A flat curve indicates that the yields for longer and shorter maturities are the same, therefore it will have a flat shape. \n",
    "\n",
    "\n",
    "\n"
   ]
  },
  {
   "cell_type": "code",
   "execution_count": null,
   "id": "d2ebce42",
   "metadata": {},
   "outputs": [],
   "source": [
    "from pyfian.yield_curves.flat_curve import FlatCurveLog, FlatCurveAER, FlatCurveBEY\n",
    "\n",
    "\n"
   ]
  }
 ],
 "metadata": {
  "kernelspec": {
   "display_name": "pyfian-zlII4RSX-py3.13",
   "language": "python",
   "name": "python3"
  },
  "language_info": {
   "codemirror_mode": {
    "name": "ipython",
    "version": 3
   },
   "file_extension": ".py",
   "mimetype": "text/x-python",
   "name": "python",
   "nbconvert_exporter": "python",
   "pygments_lexer": "ipython3",
   "version": "3.13.5"
  }
 },
 "nbformat": 4,
 "nbformat_minor": 5
}
