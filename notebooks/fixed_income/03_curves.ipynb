{
 "cells": [
  {
   "cell_type": "markdown",
   "id": "b7080b4e",
   "metadata": {},
   "source": [
    "# Curves\n",
    "\n",
    "A bond yield curve represents the yields of bonds with different maturities, providing insight into how investors value short-term versus long-term debt. The shape of the curve is closely tied to macroeconomic conditions and market expectations.\n",
    "For instance, an upward-sloping yield curve often signals economic growth: investors prefer short-term bonds (or cash equivalents) to fund projects and investments, pushing up short-term demand and yields. Conversely, an inverted yield curve may indicate economic uncertainty or a potential slowdown, as investors seek the safety of longer-term bonds, driving their yields lower relative to short-term bonds.\n",
    "Different types of curves—such as spot curves, forward curves, and par curves—highlight various aspects of bond pricing and interest rate expectations. By analyzing these curves, investors and policymakers gain valuable insights into market sentiment and the broader economic outlook. Here are some examples of curves we can look at:\n",
    "\n",
    "- **Credit Spread**: Difference in yield between bonds of similar maturity but different credit quality, typically corporate vs. Treasury.  \n",
    "  $$Y_{\\text{corporate}} - Y_{\\text{treasury}}$$\n",
    "\n",
    "- **Forward Curve**: Shows forward rates, implied future interest rates for specific periods.  \n",
    "  $$F(t_1, t_2) = \\frac{(1 + S_{t_2})^{t_2}}{(1 + S_{t_1})^{t_1}} - 1$$\n",
    "\n",
    "- **Interpolated Curve**: Yields estimated between observed maturities using interpolation.  \n",
    "  $$Y_t = Y_{t_1} + \\frac{(Y_{t_2} - Y_{t_1})(t - t_1)}{t_2 - t_1}$$\n",
    "\n",
    "- **Par Curve**: Coupon rates for bonds priced at par value across maturities.  \n",
    "  $$P = \\sum_{i=1}^n \\frac{C}{(1 + Y_t)^i} + \\frac{100}{(1 + Y_t)^n} = 100$$\n",
    "\n",
    "- **Spot Curve**: Yields on zero-coupon bonds for different maturities.  \n",
    "  $$P = \\frac{100}{(1 + S_t)^t}$$"
   ]
  },
  {
   "cell_type": "markdown",
   "id": "1d330816",
   "metadata": {},
   "source": [
    "## Curve Shapes"
   ]
  },
  {
   "cell_type": "markdown",
   "id": "71a4bbfa",
   "metadata": {},
   "source": [
    "### Flat Curve\n",
    "\n",
    "A flat yield curve occurs when short-term and long-term bond yields are nearly the same. This shape suggests uncertainty in the economy: investors do not strongly prefer one maturity over another, and the market is signaling that future growth and inflation expectations are unclear. Flat curves often appear during transitions in the business cycle, such as when the economy is shifting from expansion to slowdown."
   ]
  },
  {
   "cell_type": "markdown",
   "id": "2264af20",
   "metadata": {},
   "source": [
    "### Upward Sloping Curve\n",
    "\n",
    "An upward-sloping yield curve is the most common shape, where long-term bonds offer higher yields than short-term bonds. This reflects expectations of economic growth and potentially higher inflation in the future, leading investors to demand greater compensation for holding debt over longer horizons. It signals confidence in the economy, as short-term borrowing costs remain relatively low while long-term rates rise with stronger growth outlooks."
   ]
  },
  {
   "cell_type": "markdown",
   "id": "be571305",
   "metadata": {},
   "source": [
    "### Inverted Yield Curve\n",
    "An inverted yield curve occurs when short-term bond yields are higher than long-term yields. This unusual shape often signals investor concern about the economy, as demand for long-term bonds increases to lock in safer, stable returns. Inverted curves are commonly viewed as a warning of potential economic slowdown or recession, reflecting expectations of lower growth and inflation in the future."
   ]
  },
  {
   "cell_type": "markdown",
   "id": "3efa28c3",
   "metadata": {},
   "source": [
    "## Important Concepts"
   ]
  },
  {
   "cell_type": "markdown",
   "id": "93e78dad",
   "metadata": {},
   "source": [
    "\n",
    "### Logarithm of a Curve\n",
    "\n",
    "Taking the logarithm of a yield curve is a common technique to smooth out fluctuations and highlight relative differences between yields across maturities. This can make trends easier to analyze and help in fitting models to observed data.\n",
    "\n",
    "### AER (Annual Equivalent Rate)\n",
    "\n",
    "The Annual Equivalent Rate (AER) represents the annualized interest rate that accounts for compounding over the year. It allows investors to compare returns on different investment products on a consistent annual basis, regardless of how frequently interest is compounded (monthly, quarterly, etc.).\n",
    "\n",
    "The formula for AER is:\n",
    "\n",
    "$$\n",
    "\\text{AER} = \\left(1 + \\frac{i}{n}\\right)^n - 1\n",
    "$$\n",
    "\n",
    "where:  \n",
    "- \\(i\\) = nominal interest rate  \n",
    "- \\(n\\) = number of compounding periods per year  \n",
    "\n",
    "Using AER, investors can directly compare accounts or bonds that compound at different frequencies, ensuring a like-for-like comparison.\n",
    "\n",
    "### BEY (Bond Equivalent Yield)\n",
    "\n",
    "The Bond Equivalent Yield (BEY) converts the yield on a bond, often quoted on a discount or semi-annual basis, into an annualized yield that is comparable to standard coupon-bearing bonds. This is particularly useful for short-term securities like Treasury bills or zero-coupon bonds.\n",
    "\n",
    "For a discount bond (e.g., a T-bill), BEY is calculated as:\n",
    "\n",
    "$$\n",
    "\\text{BEY} = \\frac{F - P}{P} \\cdot \\frac{365}{t}\n",
    "$$\n",
    "\n",
    "where:  \n",
    "- \\(F\\) = face value of the bond  \n",
    "- \\(P\\) = purchase price  \n",
    "- \\(t\\) = days to maturity  \n",
    "\n",
    "For a semi-annual coupon bond, BEY can also be expressed as:\n",
    "\n",
    "$$\n",
    "\\text{BEY} = 2 \\left[ \\left(1 + \\frac{YTM_{\\text{semi-annual}}}{2}\\right)^2 - 1 \\right]\n",
    "$$\n",
    "\n",
    "Using BEY allows investors to compare yields of bonds with different maturities or coupon structures on a consistent annual basis, making it easier to assess relative value across instruments.\n"
   ]
  },
  {
   "cell_type": "code",
   "execution_count": 4,
   "id": "d2ebce42",
   "metadata": {},
   "outputs": [],
   "source": [
    "from pyfian.yield_curves.flat_curve import FlatCurveLog, FlatCurveAER, FlatCurveBEY\n",
    "\n",
    "curve_log = FlatCurveLog(0.05, \"2020-01-01\")\n"
   ]
  }
 ],
 "metadata": {
  "kernelspec": {
   "display_name": "pyfian-zlII4RSX-py3.13",
   "language": "python",
   "name": "python3"
  },
  "language_info": {
   "codemirror_mode": {
    "name": "ipython",
    "version": 3
   },
   "file_extension": ".py",
   "mimetype": "text/x-python",
   "name": "python",
   "nbconvert_exporter": "python",
   "pygments_lexer": "ipython3",
   "version": "3.13.5"
  }
 },
 "nbformat": 4,
 "nbformat_minor": 5
}
