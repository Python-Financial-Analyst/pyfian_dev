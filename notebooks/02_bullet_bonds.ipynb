{
 "cells": [
  {
   "cell_type": "markdown",
   "id": "9503f166",
   "metadata": {},
   "source": [
    "# Bullet Bonds\n",
    "\n",
    "The definition of a bullet bond is very simple - it's a bond that repays all the principal at the end of the period. The payment flow is calculated as: \n",
    "\n",
    "\n"
   ]
  },
  {
   "cell_type": "code",
   "execution_count": null,
   "id": "965d53ba",
   "metadata": {},
   "outputs": [
    {
     "name": "stdout",
     "output_type": "stream",
     "text": [
      "4.331962979617337\n",
      "20.684931506849313\n",
      "[50.0, 50.0, 1050.0]\n"
     ]
    }
   ],
   "source": [
    "from pyfian.fixed_income.bond import BulletBond\n",
    "\n",
    "\n",
    "bond = BulletBond('2020-01-01', '2025-01-01', 5, 1, notional=1000)\n",
    "\n",
    "print(bond.cash_flows('2022-01-01'))\n",
    "\n",
    "print(bond.modified_duration(yield_to_maturity=0.05))\n",
    "print(bond.accrued_interest('2023-06-01'))\n",
    "\n",
    "\n"
   ]
  },
  {
   "cell_type": "markdown",
   "id": "88e9bb6b",
   "metadata": {},
   "source": [
    "## Duration and Convexity\n",
    "\n",
    "### Duration of a Zero Coupon Bond\n",
    "\n",
    "The duration of a bond represents how sensitive a bond price is to changes in the interest rate. We can formulate this mathmaticatically as: \n",
    "\n",
    "$$D = \\frac{dP}{dr} \\frac{1}{P}$$\n",
    "\n",
    "Let $Z(t,T)$ be the price a zero coupon bond, then the duration of the bond will be: \n",
    "\n",
    "$$ D = \\frac{d Z(t,T)}{dr} \\frac{1}{Z(t,T)} = - \\frac{1}{Z(t,T)} \\left(-(T-t) e^{-r (T-t)} \\right) = T-t$$\n",
    "\n",
    "So in the case of a zero coupon bond the duration is simply the time to maturity, therefore the name of duration. \n",
    "\n",
    "### Macaulay Duration\n",
    "\n",
    "Consider a security with price: \n",
    "\n",
    "$$P = \\sum _{j=1}^n \\frac{c/2}{\\left(1 + \\frac{y}{2}\\right)^j} + \\frac{100}{\\left( 1 + \\frac{y}{2}\\right)^n}$$\n",
    "\n",
    "The Macaulay Duration is: \n",
    "\n",
    "$$D^{MC} = - \\frac{1 + \\frac{y}{2}}{P}  \\frac{dP}{dy}$$\n",
    "\n",
    "### Modified Duration\n",
    "\n",
    "Plugging the equation of Macaulay duration into the expression for the duration of a bond we obtain: \n",
    "\n",
    "$$MD = \\frac{D^{MC}}{1 + \\frac{y}{2}}$$"
   ]
  },
  {
   "cell_type": "code",
   "execution_count": 2,
   "id": "2e5cdacb",
   "metadata": {},
   "outputs": [
    {
     "name": "stdout",
     "output_type": "stream",
     "text": [
      "4.331962979617337\n",
      "23.960300750233817\n"
     ]
    }
   ],
   "source": [
    "\n",
    "print(bond.modified_duration(yield_to_maturity=0.05))\n",
    "print(bond.convexity(yield_to_maturity=0.05))\n"
   ]
  }
 ],
 "metadata": {
  "kernelspec": {
   "display_name": "pyfian-zlII4RSX-py3.13",
   "language": "python",
   "name": "python3"
  },
  "language_info": {
   "codemirror_mode": {
    "name": "ipython",
    "version": 3
   },
   "file_extension": ".py",
   "mimetype": "text/x-python",
   "name": "python",
   "nbconvert_exporter": "python",
   "pygments_lexer": "ipython3",
   "version": "3.13.5"
  }
 },
 "nbformat": 4,
 "nbformat_minor": 5
}
